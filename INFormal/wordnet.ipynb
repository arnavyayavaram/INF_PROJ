{
 "cells": [
  {
   "cell_type": "markdown",
   "metadata": {},
   "source": [
    "- Used the nltk library to find list of k closest synonyms for a word\n",
    "- Used the spacy similarity score and semantic checks to find the singular best one."
   ]
  },
  {
   "cell_type": "code",
   "execution_count": 1,
   "metadata": {},
   "outputs": [
    {
     "name": "stderr",
     "output_type": "stream",
     "text": [
      "[nltk_data] Downloading package wordnet to\n",
      "[nltk_data]     C:\\Users\\siddh\\AppData\\Roaming\\nltk_data...\n",
      "[nltk_data]   Package wordnet is already up-to-date!\n"
     ]
    },
    {
     "data": {
      "text/plain": [
       "True"
      ]
     },
     "execution_count": 1,
     "metadata": {},
     "output_type": "execute_result"
    }
   ],
   "source": [
    "import nltk\n",
    "from nltk.corpus import wordnet\n",
    "\n",
    "nltk.download('wordnet')"
   ]
  },
  {
   "cell_type": "code",
   "execution_count": 2,
   "metadata": {},
   "outputs": [],
   "source": [
    "def find_closest_synonyms(word, num_synonyms=10):\n",
    "    synonyms = []\n",
    "    for syn in wordnet.synsets(word):\n",
    "        for lemma in syn.lemmas():\n",
    "            synonyms.append(lemma.name())\n",
    "    # Remove duplicates\n",
    "    synonyms = list(set(synonyms))\n",
    "    \n",
    "    # If available synonyms are fewer than num_synonyms, use all available synonyms\n",
    "    num_synonyms = min(num_synonyms, len(synonyms))\n",
    "    \n",
    "    # Select num_synonyms synonyms\n",
    "    selected_synonyms = synonyms[:num_synonyms]\n",
    "    \n",
    "    return selected_synonyms"
   ]
  },
  {
   "cell_type": "code",
   "execution_count": 10,
   "metadata": {},
   "outputs": [
    {
     "name": "stdout",
     "output_type": "stream",
     "text": [
      "Synonyms for 'more':\n",
      "more\n",
      "more_than\n",
      "More\n",
      "Sir_Thomas_More\n",
      "to_a_greater_extent\n",
      "Thomas_More\n"
     ]
    }
   ],
   "source": [
    "word = \"more\"\n",
    "num = 100\n",
    "synonyms = find_closest_synonyms(word, num)\n",
    "\n",
    "if synonyms:\n",
    "    print(f\"Synonyms for '{word}':\")\n",
    "    for synonym in synonyms:\n",
    "            print(synonym)\n",
    "else:\n",
    "    print(\"No synonyms found.\")"
   ]
  },
  {
   "cell_type": "code",
   "execution_count": 4,
   "metadata": {},
   "outputs": [],
   "source": [
    "import spacy\n",
    "\n",
    "nlp = spacy.load(\"en_core_web_lg\")  # Load the medium English model"
   ]
  },
  {
   "cell_type": "code",
   "execution_count": 5,
   "metadata": {},
   "outputs": [],
   "source": [
    "def remove_underscores(synonyms):\n",
    "    cleaned_synonyms = [syn.replace('_', ' ') for syn in synonyms]\n",
    "    return cleaned_synonyms"
   ]
  },
  {
   "cell_type": "code",
   "execution_count": 20,
   "metadata": {},
   "outputs": [],
   "source": [
    "def find_most_sim(word,synonyms):\n",
    "    maxsim=0\n",
    "    sim=0\n",
    "    fsyn=\"\"\n",
    "    for syn in synonyms:\n",
    "        if (word.lower() not in syn.lower()) and (syn.lower() not in word.lower()):\n",
    "            sim=nlp(word).similarity(nlp(syn))\n",
    "            if sim>maxsim:\n",
    "                maxsim=sim\n",
    "                fsyn=syn\n",
    "\n",
    "    return fsyn,maxsim"
   ]
  },
  {
   "cell_type": "code",
   "execution_count": 22,
   "metadata": {},
   "outputs": [
    {
     "data": {
      "text/plain": [
       "('patty', 0.5388296338130949)"
      ]
     },
     "execution_count": 22,
     "metadata": {},
     "output_type": "execute_result"
    }
   ],
   "source": [
    "word=\"cake\"\n",
    "final,simval = find_most_sim(word,remove_underscores(find_closest_synonyms(word,num)))\n",
    "final,simval"
   ]
  }
 ],
 "metadata": {
  "kernelspec": {
   "display_name": "Python 3",
   "language": "python",
   "name": "python3"
  },
  "language_info": {
   "codemirror_mode": {
    "name": "ipython",
    "version": 3
   },
   "file_extension": ".py",
   "mimetype": "text/x-python",
   "name": "python",
   "nbconvert_exporter": "python",
   "pygments_lexer": "ipython3",
   "version": "3.9.13"
  },
  "orig_nbformat": 4
 },
 "nbformat": 4,
 "nbformat_minor": 2
}
