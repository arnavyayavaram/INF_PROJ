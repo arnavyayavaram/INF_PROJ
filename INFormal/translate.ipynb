{
 "cells": [
  {
   "cell_type": "code",
   "execution_count": 1,
   "metadata": {},
   "outputs": [],
   "source": [
    "from googletrans import Translator\n",
    "\n",
    "translator=Translator()"
   ]
  },
  {
   "cell_type": "code",
   "execution_count": 9,
   "metadata": {},
   "outputs": [],
   "source": [
    "l=[]"
   ]
  },
  {
   "cell_type": "code",
   "execution_count": 13,
   "metadata": {},
   "outputs": [],
   "source": [
    "real=\"in trouble\"\n",
    "idiom=\"in hot water\"\n",
    "sentences = [real,idiom,\"in hot h20\"]"
   ]
  },
  {
   "cell_type": "code",
   "execution_count": 14,
   "metadata": {},
   "outputs": [
    {
     "name": "stdout",
     "output_type": "stream",
     "text": [
      "मुसीबत में in trouble\n",
      "मुसीबत में in hot water\n",
      "गरम h20 में in hot h20\n"
     ]
    }
   ],
   "source": [
    "for sentence in sentences:\n",
    "    out = translator.translate(sentence,dest = \"hi\")\n",
    "    l.append(out.text)\n",
    "    print(out.text,sentence)"
   ]
  },
  {
   "cell_type": "code",
   "execution_count": 15,
   "metadata": {},
   "outputs": [
    {
     "name": "stdout",
     "output_type": "stream",
     "text": [
      "I didn't even realize I was in trouble मुझे एहसास ही नहीं हुआ कि मैं मुसीबत में हूं\n",
      "I didn't realize I was in hot water मुझे एहसास ही नहीं हुआ कि मैं गर्म पानी में हूं\n",
      "I didn't even realize I was in hot H20 मुझे एहसास ही नहीं हुआ कि मैं हॉट एच20 में हूं\n",
      "In Trouble मुसीबत में\n",
      "In Trouble मुसीबत में\n",
      "in hot h20 गरम h20 में\n"
     ]
    }
   ],
   "source": [
    "for i in l:\n",
    "    backeng = translator.translate(i,dest = \"en\")\n",
    "    print(backeng.text,i)"
   ]
  }
 ],
 "metadata": {
  "kernelspec": {
   "display_name": "Python 3",
   "language": "python",
   "name": "python3"
  },
  "language_info": {
   "codemirror_mode": {
    "name": "ipython",
    "version": 3
   },
   "file_extension": ".py",
   "mimetype": "text/x-python",
   "name": "python",
   "nbconvert_exporter": "python",
   "pygments_lexer": "ipython3",
   "version": "3.10.12"
  },
  "orig_nbformat": 4
 },
 "nbformat": 4,
 "nbformat_minor": 2
}
