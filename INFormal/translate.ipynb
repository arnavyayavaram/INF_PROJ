{
 "cells": [
  {
   "cell_type": "code",
   "execution_count": 1,
   "metadata": {},
   "outputs": [],
   "source": [
    "from googletrans import Translator\n",
    "\n",
    "translator=Translator()"
   ]
  },
  {
   "cell_type": "code",
   "execution_count": 2,
   "metadata": {},
   "outputs": [],
   "source": [
    "l=[]"
   ]
  },
  {
   "cell_type": "code",
   "execution_count": 4,
   "metadata": {},
   "outputs": [],
   "source": [
    "real=\"piece of cake\"\n",
    "idiom=\"piece of pie\"\n",
    "sentences = [real,idiom,\"will i be burned\"]"
   ]
  },
  {
   "cell_type": "code",
   "execution_count": 5,
   "metadata": {},
   "outputs": [
    {
     "name": "stdout",
     "output_type": "stream",
     "text": [
      "तुच्छ बात piece of cake\n",
      "पाई का टुकड़ा piece of pie\n",
      "क्या मुझे जला दिया जाएगा will i be burned\n"
     ]
    }
   ],
   "source": [
    "for sentence in sentences:\n",
    "    out = translator.translate(sentence,dest = \"hi\")\n",
    "    l.append(out.text)\n",
    "    print(out.text,sentence)"
   ]
  },
  {
   "cell_type": "code",
   "execution_count": 6,
   "metadata": {},
   "outputs": [
    {
     "name": "stdout",
     "output_type": "stream",
     "text": [
      "Mean talk तुच्छ बात\n",
      "Piece of Pie पाई का टुकड़ा\n",
      "will i be burned क्या मुझे जला दिया जाएगा\n"
     ]
    }
   ],
   "source": [
    "for i in l:\n",
    "    backeng = translator.translate(i,dest = \"en\")\n",
    "    print(backeng.text,i)"
   ]
  }
 ],
 "metadata": {
  "kernelspec": {
   "display_name": "Python 3",
   "language": "python",
   "name": "python3"
  },
  "language_info": {
   "codemirror_mode": {
    "name": "ipython",
    "version": 3
   },
   "file_extension": ".py",
   "mimetype": "text/x-python",
   "name": "python",
   "nbconvert_exporter": "python",
   "pygments_lexer": "ipython3",
   "version": "3.10.12"
  },
  "orig_nbformat": 4
 },
 "nbformat": 4,
 "nbformat_minor": 2
}
