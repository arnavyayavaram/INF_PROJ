{
 "cells": [
  {
   "cell_type": "code",
   "execution_count": 1,
   "metadata": {},
   "outputs": [],
   "source": [
    "import nltk\n",
    "from sklearn.feature_extraction.text import TfidfVectorizer\n",
    "from sklearn.metrics.pairwise import cosine_similarity"
   ]
  },
  {
   "cell_type": "code",
   "execution_count": 2,
   "metadata": {},
   "outputs": [],
   "source": [
    "from googletrans import Translator\n",
    "\n",
    "translator=Translator()"
   ]
  },
  {
   "cell_type": "code",
   "execution_count": 3,
   "metadata": {},
   "outputs": [
    {
     "name": "stderr",
     "output_type": "stream",
     "text": [
      "[nltk_data] Downloading package punkt to\n",
      "[nltk_data]     C:\\Users\\siddh\\AppData\\Roaming\\nltk_data...\n",
      "[nltk_data]   Package punkt is already up-to-date!\n"
     ]
    },
    {
     "data": {
      "text/plain": [
       "True"
      ]
     },
     "execution_count": 3,
     "metadata": {},
     "output_type": "execute_result"
    }
   ],
   "source": [
    "nltk.download('punkt')"
   ]
  },
  {
   "cell_type": "code",
   "execution_count": 4,
   "metadata": {},
   "outputs": [
    {
     "name": "stdout",
     "output_type": "stream",
     "text": [
      "6272\n",
      "3136\n"
     ]
    }
   ],
   "source": [
    "with open(\"textcorp.txt\", \"r\", encoding=\"utf-8\") as file:\n",
    "    lines = file.readlines()\n",
    "\n",
    "print(len(lines))\n",
    "\n",
    "midpoint = len(lines) // 2 \n",
    "\n",
    "print(midpoint)\n",
    "\n",
    "ifs = lines[:midpoint][::100]\n",
    "fs = lines[midpoint:][::100]"
   ]
  },
  {
   "cell_type": "code",
   "execution_count": 5,
   "metadata": {},
   "outputs": [
    {
     "data": {
      "text/plain": [
       "(32, 32)"
      ]
     },
     "execution_count": 5,
     "metadata": {},
     "output_type": "execute_result"
    }
   ],
   "source": [
    "len(ifs),len(fs)"
   ]
  },
  {
   "cell_type": "code",
   "execution_count": 6,
   "metadata": {},
   "outputs": [],
   "source": [
    "for i in range(len(ifs)):\n",
    "    ifs[i] = ifs[i].strip()\n",
    "    \n",
    "for i in range(len(fs)):\n",
    "    fs[i] = fs[i].strip()"
   ]
  },
  {
   "cell_type": "code",
   "execution_count": 7,
   "metadata": {},
   "outputs": [
    {
     "data": {
      "text/plain": [
       "(32, 32)"
      ]
     },
     "execution_count": 7,
     "metadata": {},
     "output_type": "execute_result"
    }
   ],
   "source": [
    "len(fs),len(ifs)"
   ]
  },
  {
   "cell_type": "code",
   "execution_count": 8,
   "metadata": {},
   "outputs": [
    {
     "name": "stdout",
     "output_type": "stream",
     "text": [
      "‘ You know , the panda who watches overs attentively my drinking habits . ’ ‘ You know , the panda who keeps an eye on my drinking habits . ’\n",
      "He was rushed to Inverness Infirmary where doctors saved him and dedicated physiotherapists gave him close medical care and attention . He was rushed to Inverness Infirmary where doctors saved him and dedicated physiotherapists nursed him back to health .\n",
      "As he struggles to think of something to discover the purpose of some otherwise unintelligible artefact , the prehistorian turns hopefully to ‘ ethnographic parallels ’ from living cultures . As he racks his brains to discover the purpose of some otherwise unintelligible artefact , the prehistorian turns hopefully to ‘ ethnographic parallels ’ from living cultures .\n",
      "The news is a huge blow for Wilkinson , who was relying on Batty 's return to stem Leeds ' growing crisis after a run of five defeats in six games . The news is a huge blow for Wilkinson , who was banking on Batty 's return to stem Leeds ' growing crisis after a run of five defeats in six games .\n",
      "People were whispering about me in my absence — smiling to my face of course — but whispering behind my back . People were whispering about me behind my back — smiling to my face of course — but whispering behind my back .\n",
      "The bird was returned by a badly shaken youth , who gave no more trouble and , for a few hours , I was Dad 's especially well treated person . The bird was returned by a badly shaken youth , who gave no more trouble and , for a few hours , I was Dad 's blue-eyed boy .\n",
      "Christmas looks to be a time for making peace or exhuming it for re-examination . Christmas looks to be a time for burying the hatchet or exhuming it for re-examination .\n",
      "your New Wee Sister , I says your auntie will wipe the gateau off your ear but he jist tried to hide laughter at me as per usual . your New Wee Sister , I says your auntie will wipe the gateau off your ear but he jist laughed up his sleeve at me as per usual .\n",
      "In fact , William Bates is no longer entitled to call himself chartered accountant as he let his membership lapse when he did not pay the requisite fee last year . In fact , William Bates is no longer entitled to call himself chartered accountant as he let his membership lapse when he did not pay his dues last year .\n",
      "Only the canny Mr Genscher , who knew the East Germans ' minds , could have thought of letting the regime regain a favorable standing by ‘ expelling ’ their own people across their own territory . Only the canny Mr Genscher , who knew the East Germans ' minds , could have thought of letting the regime save face by ‘ expelling ’ their own people across their own territory .\n",
      "However , he did not allow her to become too swamped with nervous , trembling uncertainty , as he began to talk calmly and reasonably about his brother 's future life in America , describing some of the amusing mistakes he himself had made in assuming that the English and the Americans SPOKE THE SAME LANGUAGE — when , in fact , so many words had different meanings . However , he did not allow her to become too swamped with nervous , trembling uncertainty , as he began to talk calmly and reasonably about his brother 's future life in America , describing some of the amusing mistakes he himself had made in assuming that the English and the Americans spoke the same language — when , in fact , so many words had different meanings .\n",
      "JOIN THE CLUB Join the Club\n",
      "Although the uncompromising aggressiveness and sectarian mentality of the PCF coincided with his own emotional state at that time , Nizan 's petty-bourgeois origins , his accomplished bourgeois educational history of performance inevitably worked to his disadvantage in a party obsessively preoccupied with a working-class/proletarian ethic . Although the uncompromising aggressiveness and sectarian mentality of the PCF coincided with his own emotional state at that time , Nizan 's petty-bourgeois origins , his accomplished bourgeois educational track record inevitably worked to his disadvantage in a party obsessively preoccupied with a working-class/proletarian ethic .\n",
      "But despite the political verbal exchanges over tax , she found it hard to prepare new strategies because no party had said very much about VAT . But despite the political war of words over tax , she found it hard to prepare new strategies because no party had said very much about VAT .\n",
      "British GAS UP four at two one four point five , British Telecom were down four at two hundred and sixty four , Goodhead Publishing Group unchanged at fifty-eight , Metal Box up one thousand two hundred , Morland Brewers unchanged at two hundred and seventy five and Oxford Instruments er ended the day at two three four , having er not changed their position . British Gas up four at two one four point five , British Telecom were down four at two hundred and sixty four , Goodhead Publishing Group unchanged at fifty-eight , Metal Box up one thousand two hundred , Morland Brewers unchanged at two hundred and seventy five and Oxford Instruments er ended the day at two three four , having er not changed their position .\n",
      "with the baby under your arm , like a rugby or an American football player CARRYING A BALL whilst running . with the baby under your arm , like a rugby or an American football player carrying a ball whilst running .\n",
      "Arguments about carbon emissions are expected to reach a critical stage in the forthcoming UNCED \" Earth Summit \" to be held in Rio de Janeiro in June 1992 , where a global warming treaty is expected to be signed . Arguments about carbon emissions are expected to come to a head in the forthcoming UNCED \" Earth Summit \" to be held in Rio de Janeiro in June 1992 , where a global warming treaty is expected to be signed .\n",
      "She turned her head to look at him , her eyes twinkling red-gold with the firelight , a touch of a smile CURLING HER LIPS . She turned her head to look at him , her eyes twinkling red-gold with the firelight , a touch of a smile curling her lips .\n",
      "Like their Bristolian neighbours , the Frys , they were more innovative than can be properly appreciated during their time in fostering friendly relations with their factory workers . Like their Bristolian neighbours , the Frys , they were ahead of their time in fostering friendly relations with their factory workers .\n",
      "support . Get on board .\n",
      "But , on taking action later the next day , Laura had been appalled to discover that not only had Ross already left for Australia — but she 'd been given a small attic room next to the children 's nursery . But , on getting her act together later the next day , Laura had been appalled to discover that not only had Ross already left for Australia — but she 'd been given a small attic room next to the children 's nursery .\n",
      "Kenneth O Morgan on the mixed-up Macmillan dynasty ; Valentine Cunningham on the decline and fall of Evelyn Waugh ; Veronica Groocock on Chad Varah , still the compassionate selfless person Kenneth O Morgan on the mixed-up Macmillan dynasty ; Valentine Cunningham on the decline and fall of Evelyn Waugh ; Veronica Groocock on Chad Varah , still the good Samaritan\n",
      "Complete the film title , prick up er , oh start again , listen attentively , bottom or pantyhose ? Complete the film title , prick up er , oh start again , prick up your ears , bottom or pantyhose ?\n",
      "wishing for luck mentally , he hoped that everyone would assume he was just someone else answering the call to action . Crossing his fingers mentally , he hoped that everyone would assume he was just someone else answering the call to action .\n",
      "Most of the sex in the original text survives but the producers are aware that fictional nipples are being counted by the kind of heaving bodies which consist of several men in top positions in an organization . Most of the sex in the original text survives but the producers are aware that fictional nipples are being counted by the kind of heaving bodies which consist of several men in suits .\n",
      "He suggested that elections to the constituent commission be presented to March or April and be held under international supervision . He suggested that elections to the constituent commission be brought forward to March or April and be held under international supervision .\n",
      "Nonetheless , the House of Bruce , for a brief while , tasted royalty and many claim it only aroused their interest . Nonetheless , the House of Bruce , for a brief while , tasted royalty and many claim it only whetted their appetite .\n",
      "The girl abandoned caution and tried to make the most of every minute via sex , drink , numerous abortions , and late-night revels . The girl threw caution to the wind and tried to make the most of every minute via sex , drink , numerous abortions , and late-night revels .\n",
      "But the hero of a rip-roaring derby match was Sunderland goalkeeper Tony Norman , who made two incredible second half saves to keep boro at a safe distance . But the hero of a rip-roaring derby match was Sunderland goalkeeper Tony Norman , who made two incredible second half saves to keep Boro at bay .\n",
      "The Society is maintaining communications with the appropriate authority and full information will be published as soon as possible . The Society is keeping in close touch with the appropriate authority and full information will be published as soon as possible .\n",
      "man who becomes rich and influential through his own actions : And His Undoing . Self-Made Man : And His Undoing .\n",
      "finding a compromise STRIKING A BALANCE\n"
     ]
    }
   ],
   "source": [
    "for i,j in zip(fs,ifs):\n",
    "    print(i,j)"
   ]
  },
  {
   "cell_type": "code",
   "execution_count": 255,
   "metadata": {},
   "outputs": [],
   "source": [
    "idiom_phrases = [\n",
    "    \"Bite the bullet\",\n",
    "    \"Break a leg\",\n",
    "    \"Cost an arm and a leg\",\n",
    "    \"Hit the nail on the head\",\n",
    "    \"Piece of cake\",\n",
    "    \"Don't cry over spilled milk\",\n",
    "    \"A penny for your thoughts\",\n",
    "    \"Actions speak louder than words\",\n",
    "    \"Beat around the bush\",\n",
    "    \"Break the ice\",\n",
    "    \"Cry wolf\",\n",
    "    \"The ball is in your court\",\n",
    "    \"Under the weather\",\n",
    "    \"The early bird catches the worm\",\n",
    "    \"A picture is worth a thousand words\",\n",
    "    \"Don't put all your eggs in one basket\",\n",
    "    \"Let the cat out of the bag\",\n",
    "    \"It's a piece of cake\",\n",
    "    \"Spill the beans\",\n",
    "    \"Take it with a grain of salt\",\n",
    "    \"A watched pot never boils\",\n",
    "    \"All ears\",\n",
    "    \"Burning the midnight oil\",\n",
    "    \"Cold feet\",\n",
    "    \"Don't count your chickens before they hatch\",\n",
    "    \"Don't judge a book by its cover\",\n",
    "    \"Don't throw the baby out with the bathwater\",\n",
    "    \"Don't bite the hand that feeds you\",\n",
    "    \"Easy as pie\",\n",
    "    \"Every cloud has a silver lining\",\n",
    "    \"Frog in your throat\",\n",
    "    \"Get a taste of your own medicine\",\n",
    "    \"Give someone the cold shoulder\",\n",
    "    \"Jumping on the bandwagon\",\n",
    "    \"Kick the bucket\",\n",
    "    \"Kill two birds with one stone\",\n",
    "    \"Let sleeping dogs lie\",\n",
    "    \"Once in a blue moon\",\n",
    "    \"Piece of cake\",\n",
    "    \"Read between the lines\",\n",
    "    \"See eye to eye\",\n",
    "    \"Sick as a dog\",\n",
    "    \"Spill the beans\",\n",
    "    \"The ball is in your court\",\n",
    "    \"The best of both worlds\",\n",
    "    \"The icing on the cake\",\n",
    "    \"The straw that broke the camel's back\",\n",
    "    \"Through thick and thin\",\n",
    "    \"To hit the nail on the head\",\n",
    "    \"Walking on eggshells\",\n",
    "    \"You can't judge a book by its cover\",\n",
    "    \"You can't make an omelet without breaking eggs\",\n",
    "    \"You can't make an omelet without breaking some eggs\",\n",
    "    \"A blessing in disguise\",\n",
    "    \"A dime a dozen\",\n",
    "    \"A drop in the bucket\",\n",
    "    \"A hot potato\",\n",
    "    \"A penny for your thoughts\",\n",
    "    \"A penny saved is a penny earned\",\n",
    "    \"A piece of cake\",\n",
    "    \"A picture is worth a thousand words\",\n",
    "    \"A taste of your own medicine\",\n",
    "    \"Actions speak louder than words\",\n",
    "    \"Add insult to injury\",\n",
    "    \"All ears\",\n",
    "    \"An arm and a leg\",\n",
    "    \"An axe to grind\",\n",
    "    \"Barking up the wrong tree\",\n",
    "    \"Beat around the bush\",\n",
    "    \"Bite the bullet\",\n",
    "    \"Break a leg\",\n",
    "    \"By the skin of your teeth\",\n",
    "    \"Comparing apples to oranges\",\n",
    "    \"Costs an arm and a leg\",\n",
    "    \"Cry over spilled milk\",\n",
    "    \"Cry wolf\",\n",
    "    \"Curiosity killed the cat\",\n",
    "    \"Cut to the chase\",\n",
    "    \"Don't cry over spilled milk\",\n",
    "    \"Don't give up the day job\",\n",
    "    \"Don't put all your eggs in one basket\",\n",
    "    \"Don't put the cart before the horse\",\n",
    "    \"Don't throw the baby out with the bathwater\",\n",
    "    \"Don't try to run before you can walk\",\n",
    "    \"Don't count your chickens before they hatch\",\n",
    "    \"Don't judge a book by its cover\",\n",
    "    \"Don't put all your eggs in one basket\",\n",
    "    \"Don't throw in the towel\",\n",
    "    \"Don't throw the baby out with the bathwater\",\n",
    "    \"Down to the wire\",\n",
    "    \"Drive someone up the wall\",\n",
    "    \"Elvis has left the building\",\n",
    "    \"Every cloud has a silver lining\",\n",
    "    \"Fit as a fiddle\",\n",
    "    \"For the birds\",\n",
    "    \"Get a taste of your own medicine\",\n",
    "    \"Give the benefit of the doubt\",\n",
    "    \"Go back to the drawing board\",\n",
    "    \"Haste makes waste\",\n",
    "    \"He has bigger fish to fry\",\n",
    "    \"Hear it on the grapevine\",\n",
    "    \"Hit the nail on the head\",\n",
    "    \"It takes two to tango\",\n",
    "    \"Jump on the bandwagon\",\n",
    "    \"Jump the gun\",\n",
    "    \"Keep something at bay\",\n",
    "    \"Kick the bucket\",\n",
    "    \"Let sleeping dogs lie\",\n",
    "    \"Make a long story short\",\n",
    "    \"Miss the boat\",\n",
    "    \"No pain, no gain\",\n",
    "    \"Once in a blue moon\",\n",
    "    \"Over the moon\",\n",
    "    \"Piece of cake\",\n",
    "    \"Put all your eggs in one basket\",\n",
    "    \"Raining cats and dogs\",\n",
    "    \"Read between the lines\",\n",
    "    \"See eye to eye\",\n",
    "    \"Sit on the fence\",\n",
    "    \"Sitting on the fence\",\n",
    "    \"Spill the beans\",\n",
    "    \"The ball is in your court\",\n",
    "    \"The best of both worlds\",\n",
    "    \"The devil is in the details\",\n",
    "    \"The early bird catches the worm\",\n",
    "    \"The elephant in the room\",\n",
    "    \"The whole nine yards\",\n",
    "    \"There are plenty more fish in the sea\",\n",
    "    \"There's no smoke without fire\",\n",
    "    \"Through thick and thin\",\n",
    "    \"To add insult to injury\",\n",
    "    \"To be on the ball\",\n",
    "    \"To cut a long story short\",\n",
    "    \"To cut corners\",\n",
    "    \"To feel under the weather\",\n",
    "    \"To get a taste of your own medicine\",\n",
    "    \"To give the benefit of the doubt\",\n",
    "    \"To go on a wild goose chase\",\n",
    "    \"To hit the nail on the head\",\n",
    "    \"To kill two birds with one stone\",\n",
    "    \"To let sleeping dogs lie\",\n",
    "    \"To make a long story short\",\n",
    "    \"To miss the boat\",\n",
    "    \"To pull someone's leg\",\n",
    "    \"To see eye to eye\",\n",
    "    \"To sit on the fence\",\n",
    "    \"To spill the beans\",\n",
    "    \"To take the bull by the horns\",\n",
    "    \"To take with a grain of salt\",\n",
    "    \"To the ball is in your court\",\n",
    "    \"To the best of both worlds\",\n",
    "    \"To the devil is in the details\",\n",
    "    \"To the elephant in the room\",\n",
    "    \"To the whole nine yards\",\n",
    "    \"To there are plenty more fish in the sea\",\n",
    "    \"To there's no smoke without fire\",\n",
    "    \"To through thick and thin\",\n",
    "    \"To throw in the towel\",\n",
    "    \"To throw the baby out with the bathwater\",\n",
    "    \"To you can't have your cake and eat it\",\n",
    "]"
   ]
  },
  {
   "cell_type": "code",
   "execution_count": 256,
   "metadata": {},
   "outputs": [],
   "source": [
    "phrases_without_idioms = [\n",
    "    \"The sun is shining\",\n",
    "    \"I like pizza\",\n",
    "    \"She walked to the store\",\n",
    "    \"He is playing soccer\",\n",
    "    \"The cat is sleeping\",\n",
    "    \"It's a beautiful day\",\n",
    "    \"She is reading a book\",\n",
    "    \"He drank a glass of water\",\n",
    "    \"They went for a hike\",\n",
    "    \"I need to do my homework\",\n",
    "    \"The car is parked in the garage\",\n",
    "    \"She is wearing a red dress\",\n",
    "    \"He smiled at her\",\n",
    "    \"I can hear birds singing\",\n",
    "    \"She baked cookies for the party\",\n",
    "    \"They watched a movie last night\",\n",
    "    \"He is a talented musician\",\n",
    "    \"She wrote a heartfelt letter\",\n",
    "    \"I love going to the beach\",\n",
    "    \"The flowers are in bloom\",\n",
    "    \"He built a sandcastle\",\n",
    "    \"She planted a garden\",\n",
    "    \"They played board games\",\n",
    "    \"I enjoy cooking\",\n",
    "    \"He is a great chef\",\n",
    "    \"She painted a beautiful picture\",\n",
    "    \"The dog chased its tail\",\n",
    "    \"I went for a swim\",\n",
    "    \"She is a skilled dancer\",\n",
    "    \"He is a dedicated teacher\",\n",
    "    \"They went on a road trip\",\n",
    "    \"I like to take long walks\",\n",
    "    \"She is a talented singer\",\n",
    "    \"He fixed the broken chair\",\n",
    "    \"The kids played in the park\",\n",
    "    \"I enjoy watching the sunset\",\n",
    "    \"She is a hardworking student\",\n",
    "    \"He is a friendly neighbor\",\n",
    "    \"They had a picnic in the forest\",\n",
    "    \"I like to listen to music\",\n",
    "    \"She is a caring mother\",\n",
    "    \"He is a reliable friend\",\n",
    "    \"The birds are chirping\",\n",
    "    \"I like to read books\",\n",
    "    \"She is a creative artist\",\n",
    "    \"He is a strong athlete\",\n",
    "    \"They went camping in the mountains\",\n",
    "    \"I enjoy watching the stars\",\n",
    "    \"She is a helpful coworker\",\n",
    "    \"He is a responsible pet owner\",\n",
    "    \"They went on a boat ride\",\n",
    "    \"I like to watch the clouds\",\n",
    "    \"She is a talented writer\",\n",
    "    \"He is a skilled mechanic\",\n",
    "    \"The river is flowing\",\n",
    "    \"I enjoy gardening\",\n",
    "    \"She is a dedicated nurse\",\n",
    "    \"He is a kind-hearted person\",\n",
    "    \"They went fishing by the lake\",\n",
    "    \"I like to take photographs\",\n",
    "    \"She is a patient teacher\",\n",
    "    \"He is a good listener\",\n",
    "    \"The waves are crashing on the shore\",\n",
    "    \"I like to bake cookies\",\n",
    "    \"She is a compassionate doctor\",\n",
    "    \"He is an adventurous traveler\",\n",
    "    \"They went hiking in the forest\",\n",
    "    \"I enjoy playing musical instruments\",\n",
    "    \"She is a generous friend\",\n",
    "    \"He is a wise mentor\",\n",
    "    \"The stars are twinkling in the night sky\",\n",
    "    \"I like to do yoga\",\n",
    "    \"She is a dedicated volunteer\",\n",
    "    \"He is a skilled craftsman\",\n",
    "    \"They went on a sightseeing tour\",\n",
    "    \"I like to watch wildlife\",\n",
    "    \"She is a loving grandmother\",\n",
    "    \"He is a humble leader\",\n",
    "    \"The rain is falling gently\",\n",
    "    \"I like to paint landscapes\",\n",
    "    \"She is a determined athlete\",\n",
    "    \"He is a patient teacher\",\n",
    "    \"They went on a beach vacation\",\n",
    "    \"I like to watch the sunrise\",\n",
    "    \"She is a talented pianist\",\n",
    "    \"He is a passionate artist\",\n",
    "    \"The snow is falling softly\",\n",
    "    \"I like to visit museums\",\n",
    "    \"She is a dedicated scientist\",\n",
    "    \"He is a friendly neighbor\",\n",
    "    \"They went on a city tour\",\n",
    "    \"I like to swim in the ocean\",\n",
    "    \"She is a skilled photographer\",\n",
    "    \"He is a caring parent\",\n",
    "    \"The leaves are rustling in the wind\",\n",
    "    \"I like to go for bike rides\",\n",
    "    \"She is a responsible pet owner\",\n",
    "    \"He is an adventurous explorer\",\n",
    "    \"They went on a camping trip\",\n",
    "]"
   ]
  },
  {
   "cell_type": "code",
   "execution_count": 17,
   "metadata": {},
   "outputs": [],
   "source": [
    "l=[]\n",
    "for sentence in ifs:\n",
    "    out = translator.translate(sentence,dest = \"fr\")\n",
    "    l.append(out.text)\n",
    "    # print(out.text,sentence)"
   ]
  },
  {
   "cell_type": "code",
   "execution_count": 18,
   "metadata": {},
   "outputs": [
    {
     "data": {
      "text/plain": [
       "[\"« Vous savez, le panda qui surveille mes habitudes de consommation d'alcool. '\",\n",
       " \"Il a été transporté d'urgence à l'infirmerie d'Inverness où les médecins l'ont sauvé et des physiothérapeutes dévoués l'ont soigné.\",\n",
       " 'Alors qu’il se creuse la tête pour découvrir le but d’un artefact autrement inintelligible, le préhistorien se tourne avec espoir vers les « parallèles ethnographiques » des cultures vivantes.',\n",
       " 'La nouvelle est un coup dur pour Wilkinson, qui comptait sur le retour de Batty pour endiguer la crise croissante de Leeds après une série de cinq défaites en six matchs.',\n",
       " 'Les gens chuchotaient à mon sujet dans mon dos – me souriant bien sûr – mais chuchotaient dans mon dos.',\n",
       " \"L'oiseau a été rendu par un jeune très secoué, qui n'a plus posé de problème et, pendant quelques heures, j'ai été le garçon aux yeux bleus de papa.\",\n",
       " \"Noël semble être le moment d'enterrer la hache de guerre ou de l'exhumer pour un nouvel examen.\",\n",
       " \"ta nouvelle petite sœur, je dis que ta tante va essuyer le gâteau de ton oreille mais il s'est juste moqué de moi comme d'habitude.\",\n",
       " \"En fait, William Bates n'a plus le droit de se qualifier de comptable agréé puisqu'il a laissé son adhésion expirer alors qu'il n'avait pas payé sa cotisation l'année dernière.\",\n",
       " \"Seul l'astucieux M. Genscher, qui connaissait l'esprit des Allemands de l'Est, aurait pu penser à laisser le régime sauver la face en « expulsant » son propre peuple à travers son propre territoire.\",\n",
       " \"Cependant , il ne la laissa pas se laisser submerger par une incertitude nerveuse et tremblante , alors qu'il commençait à parler calmement et raisonnablement de la vie future de son frère en Amérique , décrivant certaines des erreurs amusantes qu'il avait lui - même faites en supposant que les Anglais et les Américains parlaient la même langue – alors qu'en fait, tant de mots avaient des significations différentes.\",\n",
       " 'Joindre le club',\n",
       " \"Même si l'agressivité sans compromis et la mentalité sectaire du PCF coïncidaient avec son propre état émotionnel de l'époque, les origines petites-bourgeoises de Nizan et son parcours éducatif bourgeois accompli ont inévitablement joué en son désavantage dans un parti obsessionnellement préoccupé par une classe ouvrière. l'éthique prolétarienne.\",\n",
       " \"Mais malgré la guerre politique des mots sur la fiscalité, elle a eu du mal à préparer de nouvelles stratégies car aucun parti n'avait beaucoup parlé de la TVA.\",\n",
       " 'British Gas en hausse de quatre à deux un quatre virgule cinq, British Telecom en baisse de quatre à deux cent soixante quatre, Goodhead Publishing Group inchangé à cinquante-huit, Metal Box en hausse de mille deux cents, Morland Brewers inchangé à deux cent soixante-quinze et Oxford Instruments a terminé la journée à deux trois quatre, sans avoir changé de position.',\n",
       " 'avec le bébé sous le bras, comme un joueur de rugby ou de football américain portant un ballon en courant.',\n",
       " 'Les débats sur les émissions de carbone devraient atteindre leur paroxysme lors du prochain « Sommet de la Terre » de la CNUED qui se tiendra à Rio de Janeiro en juin 1992, où un traité sur le réchauffement climatique devrait être signé.',\n",
       " \"Elle tourna la tête pour le regarder, ses yeux scintillant d'or rouge à la lumière du feu, un sourire retroussant ses lèvres.\",\n",
       " \"Comme leurs voisins de Bristol, les Fry, ils étaient en avance sur leur temps en favorisant des relations amicales avec leurs ouvriers d'usine.\",\n",
       " 'Monter à bord .',\n",
       " \"Mais, en se ressaisissant plus tard le lendemain, Laura avait été consternée de découvrir que non seulement Ross était déjà parti pour l'Australie, mais qu'on lui avait donné une petite chambre mansardée à côté de la crèche des enfants.\",\n",
       " \"Kenneth O Morgan sur la dynastie confuse des Macmillan ; Valentine Cunningham sur le déclin et la chute d'Evelyn Waugh ; Veronica Groocock sur Chad Varah, toujours le bon Samaritain\",\n",
       " 'Compléter le titre du film , dresser euh , oh recommence , dresser les oreilles , fesses ou collants ?',\n",
       " \"Croisant mentalement les doigts, il espérait que tout le monde supposerait qu'il était simplement quelqu'un d'autre répondant à l'appel à l'action.\",\n",
       " 'La majeure partie du sexe dans le texte original survit, mais les producteurs sont conscients que les mamelons fictifs sont comptés par le genre de corps haletants composés de plusieurs hommes en costume.',\n",
       " 'Il a suggéré que les élections à la commission constituante soient avancées à mars ou avril et se déroulent sous supervision internationale.',\n",
       " \"Néanmoins, la Maison Bruce, pendant une brève période, a goûté à la royauté et beaucoup affirment que cela n'a fait qu'aiguiser leur appétit.\",\n",
       " 'La jeune fille a fait fi de toute prudence et a essayé de profiter au maximum de chaque minute via le sexe, la boisson, de nombreux avortements et les fêtes nocturnes.',\n",
       " \"Mais le héros d'un match de derby déchirant était le gardien de Sunderland Tony Norman, qui a réalisé deux arrêts incroyables en seconde période pour tenir Boro à distance.\",\n",
       " 'La Société reste en contact étroit avec les autorités compétentes et des informations complètes seront publiées dès que possible.',\n",
       " 'Self-Made Man\\xa0: et sa perte.',\n",
       " 'TROUVER UN JUSTE ÉQUILIBRE']"
      ]
     },
     "execution_count": 18,
     "metadata": {},
     "output_type": "execute_result"
    }
   ],
   "source": [
    "l"
   ]
  },
  {
   "cell_type": "code",
   "execution_count": 19,
   "metadata": {},
   "outputs": [
    {
     "data": {
      "text/plain": [
       "32"
      ]
     },
     "execution_count": 19,
     "metadata": {},
     "output_type": "execute_result"
    }
   ],
   "source": [
    "len(l)"
   ]
  },
  {
   "cell_type": "code",
   "execution_count": 20,
   "metadata": {},
   "outputs": [
    {
     "name": "stdout",
     "output_type": "stream",
     "text": [
      "‘ You know , the panda who keeps an eye on my drinking habits . ’   --->“You know, the panda who monitors my drinking habits. '\n",
      "He was rushed to Inverness Infirmary where doctors saved him and dedicated physiotherapists nursed him back to health .   --->He was rushed to Inverness Infirmary where doctors saved him and dedicated physiotherapists treated him.\n",
      "As he racks his brains to discover the purpose of some otherwise unintelligible artefact , the prehistorian turns hopefully to ‘ ethnographic parallels ’ from living cultures .   --->As he racks his brain to discover the purpose of an otherwise unintelligible artifact, the prehistorian turns hopefully to the “ethnographic parallels” of living cultures.\n",
      "The news is a huge blow for Wilkinson , who was banking on Batty 's return to stem Leeds ' growing crisis after a run of five defeats in six games .   --->The news is a blow to Wilkinson, who was counting on Batty's return to stem Leeds' growing crisis after a run of five defeats in six games.\n",
      "People were whispering about me behind my back — smiling to my face of course — but whispering behind my back .   --->People whisper about me behind my back – smiling at me of course – but were whispering behind my back.\n",
      "The bird was returned by a badly shaken youth , who gave no more trouble and , for a few hours , I was Dad 's blue-eyed boy .   --->The bird was returned by a very shaken youngster, who was no longer a problem, and for a few hours I was Dad's blue-eyed boy.\n",
      "Christmas looks to be a time for burying the hatchet or exhuming it for re-examination .   --->Christmas seems to be the time to bury the hatchet or exhume it for fresh examination.\n",
      "your New Wee Sister , I says your auntie will wipe the gateau off your ear but he jist laughed up his sleeve at me as per usual .   --->your new little sister, I say your aunt will wipe the cake out of your ear but he just made fun of me as usual.\n",
      "In fact , William Bates is no longer entitled to call himself chartered accountant as he let his membership lapse when he did not pay his dues last year .   --->In fact, William Bates is no longer entitled to call himself a chartered accountant since he let his membership lapse despite not paying his membership fees last year.\n",
      "Only the canny Mr Genscher , who knew the East Germans ' minds , could have thought of letting the regime save face by ‘ expelling ’ their own people across their own territory .   --->Only the astute Mr. Genscher, who knew the mind of the East Germans, could have thought of letting the regime save face by “expelling” its own people through its own territory.\n",
      "However , he did not allow her to become too swamped with nervous , trembling uncertainty , as he began to talk calmly and reasonably about his brother 's future life in America , describing some of the amusing mistakes he himself had made in assuming that the English and the Americans spoke the same language — when , in fact , so many words had different meanings .   --->However, he did not let her be overcome by nervous, trembling uncertainty, as he began to talk calmly and reasonably about his brother's future life in America, describing some of the amusing mistakes he himself had made. assuming that the English and Americans spoke the same language – when in fact so many words had different meanings.\n",
      "Join the Club   --->Join the club\n",
      "Although the uncompromising aggressiveness and sectarian mentality of the PCF coincided with his own emotional state at that time , Nizan 's petty-bourgeois origins , his accomplished bourgeois educational track record inevitably worked to his disadvantage in a party obsessively preoccupied with a working-class/proletarian ethic .   --->Even if the PCF's uncompromising aggressiveness and sectarian mentality coincided with its own emotional state at the time, Nizan's petty-bourgeois origins and accomplished bourgeois educational background inevitably worked to his disadvantage in a party obsessively preoccupied with a working class. proletarian ethics.\n",
      "But despite the political war of words over tax , she found it hard to prepare new strategies because no party had said very much about VAT .   --->But despite the political war of words on taxation, she struggled to prepare new strategies because neither party had talked much about VAT.\n",
      "British Gas up four at two one four point five , British Telecom were down four at two hundred and sixty four , Goodhead Publishing Group unchanged at fifty-eight , Metal Box up one thousand two hundred , Morland Brewers unchanged at two hundred and seventy five and Oxford Instruments er ended the day at two three four , having er not changed their position .   --->British Gas up four to two one four point five, British Telecom down four to two hundred and sixty four, Goodhead Publishing Group unchanged at fifty eight, Metal Box up one thousand two hundred, Morland Brewers unchanged at two hundred and sixty -fifteen and Oxford Instruments ended the day at two three four, without having changed position.\n",
      "with the baby under your arm , like a rugby or an American football player carrying a ball whilst running .   --->with the baby under your arm, like a rugby or American football player carrying a ball while running.\n",
      "Arguments about carbon emissions are expected to come to a head in the forthcoming UNCED \" Earth Summit \" to be held in Rio de Janeiro in June 1992 , where a global warming treaty is expected to be signed .   --->Debates over carbon emissions are expected to come to a head at the upcoming UNCED \"Earth Summit\" in Rio de Janeiro in June 1992, where a treaty on global warming is expected to be signed.\n",
      "She turned her head to look at him , her eyes twinkling red-gold with the firelight , a touch of a smile curling her lips .   --->She turned her head to look at him, her eyes glinting red gold in the firelight, a smile curling her lips.\n",
      "Like their Bristolian neighbours , the Frys , they were ahead of their time in fostering friendly relations with their factory workers .   --->Like their Bristol neighbors the Frys, they were ahead of their time in fostering friendly relations with their factory workers.\n",
      "Get on board .   --->Climb on board .\n",
      "But , on getting her act together later the next day , Laura had been appalled to discover that not only had Ross already left for Australia — but she 'd been given a small attic room next to the children 's nursery .   --->But, pulling herself together later the next day, Laura had been dismayed to discover that not only had Ross already left for Australia, but that he had been given a small attic room next to the children's nursery.\n",
      "Kenneth O Morgan on the mixed-up Macmillan dynasty ; Valentine Cunningham on the decline and fall of Evelyn Waugh ; Veronica Groocock on Chad Varah , still the good Samaritan   --->Kenneth O Morgan on the confused Macmillan dynasty; Valentine Cunningham on the decline and fall of Evelyn Waugh; Veronica Groocock on Chad Varah, Always the Good Samaritan\n",
      "Complete the film title , prick up er , oh start again , prick up your ears , bottom or pantyhose ?   --->Complete the title of the film, erect uh, oh start again, erect the ears, buttocks or tights?\n",
      "Crossing his fingers mentally , he hoped that everyone would assume he was just someone else answering the call to action .   --->Mentally crossing his fingers, he hoped everyone would assume he was just someone else answering the call to action.\n",
      "Most of the sex in the original text survives but the producers are aware that fictional nipples are being counted by the kind of heaving bodies which consist of several men in suits .   --->Most of the sex in the original text survives, but the producers are aware that the fictional nipples are counted by the kind of panting bodies made up of several men in suits.\n",
      "He suggested that elections to the constituent commission be brought forward to March or April and be held under international supervision .   --->He suggested that elections to the constituent commission be brought forward to March or April and take place under international supervision.\n",
      "Nonetheless , the House of Bruce , for a brief while , tasted royalty and many claim it only whetted their appetite .   --->Nonetheless, House Bruce, for a brief period, had a taste of royalty and many claim it only whetted their appetite.\n",
      "The girl threw caution to the wind and tried to make the most of every minute via sex , drink , numerous abortions , and late-night revels .   --->The girl threw caution to the wind and tried to make the most of every minute through sex, drinking, numerous abortions and late-night parties.\n",
      "But the hero of a rip-roaring derby match was Sunderland goalkeeper Tony Norman , who made two incredible second half saves to keep Boro at bay .   --->But the hero of a heartbreaking derby match was Sunderland goalkeeper Tony Norman, who produced two incredible saves in the second half to keep Boro at bay.\n",
      "The Society is keeping in close touch with the appropriate authority and full information will be published as soon as possible .   --->The Company remains in close contact with the relevant authorities and full information will be published as soon as possible.\n",
      "Self-Made Man : And His Undoing .   --->Self-Made Man: And his downfall.\n",
      "STRIKING A BALANCE   --->FIND A RIGHT BALANCE\n"
     ]
    }
   ],
   "source": [
    "for i in range(len(l)):\n",
    "    backeng = translator.translate(l[i],dest = \"en\")\n",
    "    l[i] = backeng.text\n",
    "    print(ifs[i] + \"   --->\" + backeng.text)"
   ]
  },
  {
   "cell_type": "code",
   "execution_count": 21,
   "metadata": {},
   "outputs": [
    {
     "name": "stdout",
     "output_type": "stream",
     "text": [
      "Average Jaccard Similarity: 0.7064217184644633\n"
     ]
    }
   ],
   "source": [
    "jaccard_similarities = []\n",
    "\n",
    "for s_element, l_element in zip(ifs, l):\n",
    "    tokens1 = set(nltk.word_tokenize(s_element.lower()))\n",
    "    tokens2 = set(nltk.word_tokenize(l_element.lower()))\n",
    "    intersection = len(tokens1.intersection(tokens2))\n",
    "    union = len(tokens1.union(tokens2))\n",
    "    jaccard_similarity = intersection / union\n",
    "\n",
    "    jaccard_similarities.append(jaccard_similarity)\n",
    "\n",
    "# for i, similarity in enumerate(jaccard_similarities):\n",
    "#     print(f\"Jaccard Similarity between s[{i}] and l[{i}]: {similarity}\")\n",
    "\n",
    "average_jaccard_similarity = sum(jaccard_similarities) / len(jaccard_similarities)\n",
    "print(f\"Average Jaccard Similarity: {average_jaccard_similarity}\")"
   ]
  },
  {
   "cell_type": "code",
   "execution_count": 22,
   "metadata": {},
   "outputs": [
    {
     "name": "stdout",
     "output_type": "stream",
     "text": [
      "Average Cosine Similarity: 0.7398183932126564\n"
     ]
    }
   ],
   "source": [
    "cosine_similarities = []\n",
    "\n",
    "for s_element, l_element in zip(ifs, l):\n",
    "    tokens1 = nltk.word_tokenize(l_element)\n",
    "    tokens2 = nltk.word_tokenize(s_element)\n",
    "\n",
    "    sentence1 = ' '.join(tokens1)\n",
    "    sentence2 = ' '.join(tokens2)\n",
    "\n",
    "    vectorizer = TfidfVectorizer()\n",
    "    tfidf_matrix = vectorizer.fit_transform([sentence1, sentence2])\n",
    "\n",
    "    cosine_sim = cosine_similarity(tfidf_matrix[0], tfidf_matrix[1])\n",
    "\n",
    "    cosine_similarities.append(cosine_sim[0][0])\n",
    "\n",
    "# for i, similarity in enumerate(cosine_similarities):\n",
    "#     print(f\"Cosine Similarity between l[{i}] and s[{i}]: {similarity}\")\n",
    "\n",
    "# Calculate the average cosine similarity\n",
    "average_cosine_similarity = sum(cosine_similarities) / len(cosine_similarities)\n",
    "\n",
    "print(f\"Average Cosine Similarity: {average_cosine_similarity}\")"
   ]
  }
 ],
 "metadata": {
  "kernelspec": {
   "display_name": "project",
   "language": "python",
   "name": "python3"
  },
  "language_info": {
   "codemirror_mode": {
    "name": "ipython",
    "version": 3
   },
   "file_extension": ".py",
   "mimetype": "text/x-python",
   "name": "python",
   "nbconvert_exporter": "python",
   "pygments_lexer": "ipython3",
   "version": "3.10.12"
  },
  "orig_nbformat": 4
 },
 "nbformat": 4,
 "nbformat_minor": 2
}
