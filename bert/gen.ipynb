{
 "cells": [
  {
   "cell_type": "markdown",
   "metadata": {},
   "source": [
    "- Experimented with generative GPT models to calculate the percentages associated with words when attempting to complete idiomatic sentences\n",
    "- Concluded that it was able to understand majority of the most simple idioms and complete them meaningfully"
   ]
  },
  {
   "cell_type": "code",
   "execution_count": 2,
   "metadata": {},
   "outputs": [],
   "source": [
    "import tensorflow as tf\n",
    "from transformers import TFGPT2LMHeadModel, GPT2Tokenizer"
   ]
  },
  {
   "cell_type": "code",
   "execution_count": 3,
   "metadata": {},
   "outputs": [],
   "source": [
    "import numpy as np"
   ]
  },
  {
   "cell_type": "code",
   "execution_count": 4,
   "metadata": {},
   "outputs": [
    {
     "name": "stderr",
     "output_type": "stream",
     "text": [
      "Downloading tf_model.h5: 100%|██████████| 498M/498M [00:13<00:00, 37.3MB/s] \n",
      "c:\\Users\\siddh\\anaconda3\\envs\\myenv\\lib\\site-packages\\huggingface_hub\\file_download.py:133: UserWarning: `huggingface_hub` cache-system uses symlinks by default to efficiently store duplicated files but your machine does not support them in C:\\Users\\siddh\\.cache\\huggingface\\hub. Caching files will still work but in a degraded version that might require more space on your disk. This warning can be disabled by setting the `HF_HUB_DISABLE_SYMLINKS_WARNING` environment variable. For more details, see https://huggingface.co/docs/huggingface_hub/how-to-cache#limitations.\n",
      "To support symlinks on Windows, you either need to activate Developer Mode or to run Python as an administrator. In order to see activate developer mode, see this article: https://docs.microsoft.com/en-us/windows/apps/get-started/enable-your-device-for-development\n",
      "  warnings.warn(message)\n",
      "All model checkpoint layers were used when initializing TFGPT2LMHeadModel.\n",
      "\n",
      "All the layers of TFGPT2LMHeadModel were initialized from the model checkpoint at gpt2.\n",
      "If your task is similar to the task the model of the checkpoint was trained on, you can already use TFGPT2LMHeadModel for predictions without further training.\n"
     ]
    }
   ],
   "source": [
    "# Load pre-trained GPT-2 model and tokenizer\n",
    "model_name = 'gpt2'\n",
    "tokenizer = GPT2Tokenizer.from_pretrained(model_name)\n",
    "model = TFGPT2LMHeadModel.from_pretrained(model_name)"
   ]
  },
  {
   "cell_type": "code",
   "execution_count": 5,
   "metadata": {},
   "outputs": [
    {
     "name": "stdout",
     "output_type": "stream",
     "text": [
      "Predicted Next Word:  do\n"
     ]
    }
   ],
   "source": [
    "\n",
    "# Input text for prediction\n",
    "input_text = \"fine if you are so clever why dont you tell me what to\"\n",
    "input_ids = tokenizer.encode(input_text, return_tensors=\"tf\")\n",
    "\n",
    "# Generate next word predictions\n",
    "logits = model(input_ids)[0]\n",
    "predicted_token_id = tf.argmax(logits[0, -1, :])\n",
    "\n",
    "# Decode the predicted token\n",
    "predicted_word = tokenizer.decode(predicted_token_id.numpy())\n",
    "\n",
    "print(\"Predicted Next Word:\", predicted_word)"
   ]
  },
  {
   "cell_type": "code",
   "execution_count": 6,
   "metadata": {},
   "outputs": [],
   "source": [
    "input_sentence = \"its raining\"\n",
    "input_ids = tokenizer.encode(input_sentence, return_tensors=\"tf\")\n",
    "\n",
    "# Generate next word predictions\n",
    "logits = model(input_ids)[0]\n",
    "\n",
    "# Get the predicted probabilities for the last token\n",
    "predicted_probs = tf.nn.softmax(logits[:, -1, :], axis=-1)[0]\n",
    "\n",
    "# Get sorted list of token IDs and their corresponding probabilities\n",
    "sorted_token_probs = sorted(enumerate(predicted_probs), key=lambda x: x[1], reverse=True)"
   ]
  },
  {
   "cell_type": "code",
   "execution_count": 7,
   "metadata": {},
   "outputs": [
    {
     "data": {
      "text/plain": [
       "50257"
      ]
     },
     "execution_count": 7,
     "metadata": {},
     "output_type": "execute_result"
    }
   ],
   "source": [
    "len(sorted_token_probs)"
   ]
  },
  {
   "cell_type": "code",
   "execution_count": 8,
   "metadata": {},
   "outputs": [
    {
     "name": "stdout",
     "output_type": "stream",
     "text": [
      "Word:  down | Probability: 0.4680662751197815\n"
     ]
    }
   ],
   "source": [
    "target_word = \" down\"\n",
    "for token_id, prob in sorted_token_probs:\n",
    "    predicted_word = tokenizer.decode([token_id])\n",
    "    if predicted_word == target_word:\n",
    "        print(f\"Word: {predicted_word} | Probability: {prob:}\")\n",
    "        break"
   ]
  },
  {
   "cell_type": "code",
   "execution_count": 10,
   "metadata": {},
   "outputs": [
    {
     "name": "stdout",
     "output_type": "stream",
     "text": [
      "Input Sentence: its raining cats and \n",
      "Input Word:  dogs,\n",
      "Probability of the Input Word: 0.003573629\n"
     ]
    }
   ],
   "source": [
    "input_sentence = \"its raining cats and \"\n",
    "input_word = \" dogs,\"  # The word or phrase you want to check\n",
    "\n",
    "# Tokenize the input sentence and word\n",
    "input_ids = tokenizer.encode(input_sentence, return_tensors=\"tf\")\n",
    "input_word_ids = tokenizer.encode(input_word, return_tensors=\"tf\")\n",
    "\n",
    "# Generate continuation of the sentence with the input word\n",
    "input_ids = tf.concat([input_ids, input_word_ids], axis=-1)\n",
    "logits = model(input_ids)[0]\n",
    "\n",
    "# Get the predicted probabilities for the last token\n",
    "predicted_probs = tf.nn.softmax(logits[:, -1, :], axis=-1)[0]\n",
    "\n",
    "# Get the token ID of the input word\n",
    "input_word_token_id = input_word_ids[0, 0]\n",
    "\n",
    "# Get the probability of the input word\n",
    "input_word_prob = predicted_probs[input_word_token_id].numpy()\n",
    "\n",
    "print(\"Input Sentence:\", input_sentence)\n",
    "print(\"Input Word:\", input_word)\n",
    "print(\"Probability of the Input Word:\", input_word_prob)\n"
   ]
  }
 ],
 "metadata": {
  "kernelspec": {
   "display_name": "Python 3",
   "language": "python",
   "name": "python3"
  },
  "language_info": {
   "codemirror_mode": {
    "name": "ipython",
    "version": 3
   },
   "file_extension": ".py",
   "mimetype": "text/x-python",
   "name": "python",
   "nbconvert_exporter": "python",
   "pygments_lexer": "ipython3",
   "version": "3.10.12"
  },
  "orig_nbformat": 4
 },
 "nbformat": 4,
 "nbformat_minor": 2
}
