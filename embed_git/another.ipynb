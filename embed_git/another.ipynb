{
 "cells": [
  {
   "cell_type": "code",
   "execution_count": null,
   "metadata": {},
   "outputs": [],
   "source": [
    "import numpy as np\n",
    "from sentence_transformers import SentenceTransformer\n",
    "from annoy import AnnoyIndex"
   ]
  },
  {
   "cell_type": "code",
   "execution_count": null,
   "metadata": {},
   "outputs": [],
   "source": [
    "# Load the Universal Sentence Encoder model\n",
    "model = SentenceTransformer('paraphrase-MiniLM-L6-v2')\n",
    "\n",
    "# Compute USE embeddings for your text data\n",
    "embeddings = model.encode(your_text_data)\n",
    "\n",
    "# Build an Annoy index for efficient nearest neighbor search\n",
    "annoy_index = AnnoyIndex(embedding_dim)  # Specify the embedding dimension\n",
    "\n",
    "for i, embedding in enumerate(embeddings):\n",
    "    annoy_index.add_item(i, embedding)\n",
    "\n",
    "annoy_index.build(n_trees=10)  # You can adjust the number of trees for trade-offs between speed and accuracy\n",
    "\n",
    "# Find the k-nearest neighbors for a query embedding\n",
    "query_embedding = model.encode(your_query_text)\n",
    "k = 5  # Number of nearest neighbors\n",
    "neighbor_indices = annoy_index.get_nns_by_vector(query_embedding, k)\n",
    "\n",
    "# Retrieve the actual text data for the nearest neighbors\n",
    "nearest_neighbors = [your_text_data[i] for i in neighbor_indices]"
   ]
  }
 ],
 "metadata": {
  "kernelspec": {
   "display_name": "project",
   "language": "python",
   "name": "python3"
  },
  "language_info": {
   "name": "python",
   "version": "3.10.12"
  },
  "orig_nbformat": 4
 },
 "nbformat": 4,
 "nbformat_minor": 2
}
