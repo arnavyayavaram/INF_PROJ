{
 "cells": [
  {
   "cell_type": "markdown",
   "metadata": {},
   "source": [
    "- Used sentence transformers to compute embeddings for a large text corpus\n",
    "- We found the K Nearest Neighbours(KNN) for input sentences\n",
    "- Applied sentence augmenters based on replacing synonyms with the most similar alternative\n",
    "- We then found number of common embeddings for these augmented sentences with the original sentence to compute an S-score\n",
    "- We had hoped that this S-score would show differences between formal and informal sentences."
   ]
  },
  {
   "cell_type": "code",
   "execution_count": 1,
   "metadata": {},
   "outputs": [],
   "source": [
    "import numpy as np"
   ]
  },
  {
   "cell_type": "code",
   "execution_count": 2,
   "metadata": {},
   "outputs": [],
   "source": [
    "def cosine(u, v):\n",
    "    return np.dot(u, v) / (np.linalg.norm(u) * np.linalg.norm(v))"
   ]
  },
  {
   "cell_type": "code",
   "execution_count": 3,
   "metadata": {},
   "outputs": [],
   "source": [
    "from sentence_transformers import SentenceTransformer\n",
    "sbert_model = SentenceTransformer('bert-base-nli-mean-tokens')"
   ]
  },
  {
   "cell_type": "code",
   "execution_count": 4,
   "metadata": {},
   "outputs": [],
   "source": [
    "\n",
    "sentences = [\"She wanted to test the part-time job out cautiously before committing fully and quitting her full-time job.\",\n",
    "     \"She decided to test the waters by taking on a part-time job before quitting her full-time job.\",\n",
    "     \"She decided to try out the waters by taking on a part-time job before quitting her full-time job.\",\n",
    "     \"She decided to test the pool by taking on a part-time job before quitting her full-time job.\",\n",
    "    \"This is an example sentence.\",\n",
    "    \"Another example sentence.\",\n",
    "    \"BERT embeddings clustering is cool.\",\n",
    "    \"Machine learning is a subset of artificial intelligence.\",\n",
    "    \"Natural language processing is a fascinating field.\",\n",
    "    \"Deep learning models are becoming more sophisticated.\",\n",
    "    \"Data science involves extracting insights from data.\",\n",
    "    \"Reinforcement learning is used in training autonomous agents.\",\n",
    "    \"The internet of things connects devices and data.\",\n",
    "    \"Artificial neural networks mimic the human brain.\",\n",
    "    \"Quantum computing has the potential to revolutionize computing.\",\n",
    "    \"Statistical analysis is crucial for making data-driven decisions.\",\n",
    "    \"Cloud computing provides scalable and flexible resources.\",\n",
    "    \"Blockchain technology ensures secure and transparent transactions.\",\n",
    "    \"Virtual reality immerses users in digital environments.\",\n",
    "    \"Augmented reality overlays digital information on the real world.\",\n",
    "    \"Big data analytics handles large volumes of data for insights.\",\n",
    "    \"Cybersecurity is essential to protect digital assets.\",\n",
    "    \"Ethical considerations are important in technology development.\",\n",
    "    \"The future of technology is exciting and full of possibilities.\",\n",
    "    \"The sky is blue.\",\n",
    "    \"I love programming.\",\n",
    "    \"Cats are adorable.\",\n",
    "    \"Python is a versatile language.\",\n",
    "    \"The beach is so relaxing.\",\n",
    "    \"Music brings people together.\",\n",
    "    \"Learning is a lifelong journey.\",\n",
    "    \"Books open up new worlds.\",\n",
    "    \"The sun sets in the west.\",\n",
    "    \"Coffee fuels my mornings.\",\n",
    "    \"Laughter is contagious.\",\n",
    "    \"Rainy days are perfect for reading.\",\n",
    "    \"Mountains are majestic.\",\n",
    "    \"Artistic expression is important.\",\n",
    "    \"Education is the key to success.\",\n",
    "    \"Family is where life begins.\",\n",
    "    \"Traveling broadens the mind.\",\n",
    "    \"Friendship is a precious gift.\",\n",
    "    \"The internet connects us all.\",\n",
    "    \"Success requires hard work.\",\n",
    "    \"The moon lights up the night sky.\",\n",
    "    \"Happiness comes from within.\",\n",
    "    \"Nature is full of beauty.\",\n",
    "    \"Time heals all wounds.\",\n",
    "    \"The start is always the hardest.\",\n",
    "    \"Kindness costs nothing.\",\n",
    "    \"Failure is a stepping stone to success.\",\n",
    "    \"Patience is a virtue.\",\n",
    "    \"Dream big, achieve bigger.\",\n",
    "    \"Change is the only constant.\",\n",
    "    \"The world is full of possibilities.\",\n",
    "    \"Actions speak louder than words.\",\n",
    "    \"Imagination knows no bounds.\",\n",
    "    \"Learning from mistakes is important.\",\n",
    "    \"A smile brightens up any day.\",\n",
    "    \"Innovation drives progress.\",\n",
    "    \"The future is what we make it.\",\n",
    "    \"Dance like nobody's watching.\",\n",
    "    \"The ocean is full of wonders.\",\n",
    "    \"Challenges make us stronger.\",\n",
    "    \"Love knows no boundaries.\",\n",
    "    \"Simplicity is the ultimate sophistication.\",\n",
    "    \"Courage leads to success.\",\n",
    "    \"Empathy makes the world better.\",\n",
    "    \"The sun also rises.\",\n",
    "    \"Stay curious, stay learning.\",\n",
    "    \"The only limit is your mind.\",\n",
    "    \"Resilience conquers adversity.\",\n",
    "    \"Kindness is a language everyone understands.\",\n",
    "    \"Believe you can and you're halfway there.\",\n",
    "    \"Adventure awaits those who seek it.\",\n",
    "    \"Life is a journey, not a destination.\",\n",
    "    \"Nature has a calming effect.\",\n",
    "    \"Determination overcomes obstacles.\",\n",
    "    \"Success is sweetest after struggle.\",\n",
    "    \"Every day is a second chance.\",\n",
    "    \"Wisdom comes with experience.\",\n",
    "    \"Find joy in the little things.\",\n",
    "    \"The best is yet to come.\",\n",
    "    \"A positive attitude changes everything.\",\n",
    "    \"Create, don't just consume.\",\n",
    "    \"Stay focused and never give up.\",\n",
    "    \"Knowledge is power.\",\n",
    "    \"Inspiration can be found everywhere.\",\n",
    "    \"Celebrate the present moment.\",\n",
    "    \"Don't just dream, take action.\",\n",
    "    \"Miracles happen every day.\",\n",
    "    \"The Earth is our home.\",\n",
    "    \"Make each day your masterpiece.\",\n",
    "    \"Laughter is the best medicine.\",\n",
    "    \"Find strength in adversity.\",\n",
    "    \"Listen more, speak less.\",\n",
    "    \"Home is where the heart is.\",\n",
    "    \"Strive for progress, not perfection.\",\n",
    "    \"Your attitude determines your direction.\",\n",
    "    \"The pen is mightier than the sword.\",\n",
    "    \"Be the change you wish to see.\",\n",
    "    \"Be yourself, everyone else is taken.\",\n",
    "    \"Success starts with a single step.\",\n",
    "    \"Stay humble and kind.\",\n",
    "    \"Perseverance leads to success.\",\n",
    "    \"Seize the day!\",\n",
    "    \"Life is what you make it.\",\n",
    "    \"A journey of a thousand miles begins with a single step.\",\n",
    "    \"Follow your passions.\",\n",
    "    \"Dreams are meant to be chased.\",\n",
    "    \"The past does not define the future.\",\n",
    "    \"Embrace the unknown with courage.\",\n",
    "    \"Compassion makes the world brighter.\",\n",
    "    \"Discover the beauty in diversity.\",\n",
    "    \"Keep pushing your limits.\",\n",
    "    \"Learn from the past, live in the present, plan for the future.\",\n",
    "    \"The greatest risk is not taking any risks.\",\n",
    "    \"Find happiness within yourself.\",\n",
    "    \"Stay hungry for knowledge.\",\n",
    "    \"Live and let live.\",\n",
    "    \"You are capable of amazing things.\",\n",
    "    \"Mistakes are proof that you're trying.\",\n",
    "    \"Be the hero of your own story.\",\n",
    "    \"Spread positivity wherever you go.\",\n",
    "]"
   ]
  },
  {
   "cell_type": "code",
   "execution_count": 5,
   "metadata": {},
   "outputs": [
    {
     "name": "stdout",
     "output_type": "stream",
     "text": [
      "124\n"
     ]
    }
   ],
   "source": [
    "print(len(sentences))"
   ]
  },
  {
   "cell_type": "code",
   "execution_count": 6,
   "metadata": {},
   "outputs": [],
   "source": [
    "def embed(s):\n",
    "    lst = s.split()\n",
    "    l = len(lst)\n",
    "    sentence = np.zeros(768)\n",
    "    \n",
    "    for i in range(0, l - 2):\n",
    "        sub_sentence = \" \".join(lst[i:i+3])\n",
    "        sub_embedding = sbert_model.encode(sub_sentence)\n",
    "        sentence += sub_embedding\n",
    "    \n",
    "    divisor = l - 2\n",
    "    result_vector = sentence / divisor\n",
    "    return result_vector"
   ]
  },
  {
   "cell_type": "code",
   "execution_count": 7,
   "metadata": {},
   "outputs": [
    {
     "name": "stdout",
     "output_type": "stream",
     "text": [
      "She wanted to test the part-time job out cautiously before committing fully and quitting her full-time job.\n",
      "She decided to test the waters by taking on a part-time job before quitting her full-time job.\n",
      "She decided to try out the waters by taking on a part-time job before quitting her full-time job.\n",
      "She decided to test the pool by taking on a part-time job before quitting her full-time job.\n",
      "This is an example sentence.\n",
      "Another example sentence.\n",
      "BERT embeddings clustering is cool.\n",
      "Machine learning is a subset of artificial intelligence.\n",
      "Natural language processing is a fascinating field.\n",
      "Deep learning models are becoming more sophisticated.\n",
      "Data science involves extracting insights from data.\n",
      "Reinforcement learning is used in training autonomous agents.\n",
      "The internet of things connects devices and data.\n",
      "Artificial neural networks mimic the human brain.\n",
      "Quantum computing has the potential to revolutionize computing.\n",
      "Statistical analysis is crucial for making data-driven decisions.\n",
      "Cloud computing provides scalable and flexible resources.\n",
      "Blockchain technology ensures secure and transparent transactions.\n",
      "Virtual reality immerses users in digital environments.\n",
      "Augmented reality overlays digital information on the real world.\n",
      "Big data analytics handles large volumes of data for insights.\n",
      "Cybersecurity is essential to protect digital assets.\n",
      "Ethical considerations are important in technology development.\n",
      "The future of technology is exciting and full of possibilities.\n",
      "The sky is blue.\n",
      "I love programming.\n",
      "Cats are adorable.\n",
      "Python is a versatile language.\n",
      "The beach is so relaxing.\n",
      "Music brings people together.\n",
      "Learning is a lifelong journey.\n",
      "Books open up new worlds.\n",
      "The sun sets in the west.\n",
      "Coffee fuels my mornings.\n",
      "Laughter is contagious.\n",
      "Rainy days are perfect for reading.\n",
      "Mountains are majestic.\n",
      "Artistic expression is important.\n",
      "Education is the key to success.\n",
      "Family is where life begins.\n",
      "Traveling broadens the mind.\n",
      "Friendship is a precious gift.\n",
      "The internet connects us all.\n",
      "Success requires hard work.\n",
      "The moon lights up the night sky.\n",
      "Happiness comes from within.\n",
      "Nature is full of beauty.\n",
      "Time heals all wounds.\n",
      "The start is always the hardest.\n",
      "Kindness costs nothing.\n",
      "Failure is a stepping stone to success.\n",
      "Patience is a virtue.\n",
      "Dream big, achieve bigger.\n",
      "Change is the only constant.\n",
      "The world is full of possibilities.\n",
      "Actions speak louder than words.\n",
      "Imagination knows no bounds.\n",
      "Learning from mistakes is important.\n",
      "A smile brightens up any day.\n",
      "Innovation drives progress.\n",
      "The future is what we make it.\n",
      "Dance like nobody's watching.\n",
      "The ocean is full of wonders.\n",
      "Challenges make us stronger.\n",
      "Love knows no boundaries.\n",
      "Simplicity is the ultimate sophistication.\n",
      "Courage leads to success.\n",
      "Empathy makes the world better.\n",
      "The sun also rises.\n",
      "Stay curious, stay learning.\n",
      "The only limit is your mind.\n",
      "Resilience conquers adversity.\n",
      "Kindness is a language everyone understands.\n",
      "Believe you can and you're halfway there.\n",
      "Adventure awaits those who seek it.\n",
      "Life is a journey, not a destination.\n",
      "Nature has a calming effect.\n",
      "Determination overcomes obstacles.\n",
      "Success is sweetest after struggle.\n",
      "Every day is a second chance.\n",
      "Wisdom comes with experience.\n",
      "Find joy in the little things.\n",
      "The best is yet to come.\n",
      "A positive attitude changes everything.\n",
      "Create, don't just consume.\n",
      "Stay focused and never give up.\n",
      "Knowledge is power.\n",
      "Inspiration can be found everywhere.\n",
      "Celebrate the present moment.\n",
      "Don't just dream, take action.\n",
      "Miracles happen every day.\n",
      "The Earth is our home.\n",
      "Make each day your masterpiece.\n",
      "Laughter is the best medicine.\n",
      "Find strength in adversity.\n",
      "Listen more, speak less.\n",
      "Home is where the heart is.\n",
      "Strive for progress, not perfection.\n",
      "Your attitude determines your direction.\n",
      "The pen is mightier than the sword.\n",
      "Be the change you wish to see.\n",
      "Be yourself, everyone else is taken.\n",
      "Success starts with a single step.\n",
      "Stay humble and kind.\n",
      "Perseverance leads to success.\n",
      "Seize the day!\n",
      "Life is what you make it.\n",
      "A journey of a thousand miles begins with a single step.\n",
      "Follow your passions.\n",
      "Dreams are meant to be chased.\n",
      "The past does not define the future.\n",
      "Embrace the unknown with courage.\n",
      "Compassion makes the world brighter.\n",
      "Discover the beauty in diversity.\n",
      "Keep pushing your limits.\n",
      "Learn from the past, live in the present, plan for the future.\n",
      "The greatest risk is not taking any risks.\n",
      "Find happiness within yourself.\n",
      "Stay hungry for knowledge.\n",
      "Live and let live.\n",
      "You are capable of amazing things.\n",
      "Mistakes are proof that you're trying.\n",
      "Be the hero of your own story.\n",
      "Spread positivity wherever you go.\n"
     ]
    }
   ],
   "source": [
    "for s in sentences:\n",
    "    print(s)"
   ]
  },
  {
   "cell_type": "code",
   "execution_count": 8,
   "metadata": {},
   "outputs": [
    {
     "name": "stdout",
     "output_type": "stream",
     "text": [
      "Sample BERT embedding vector - length 768\n"
     ]
    },
    {
     "data": {
      "text/plain": [
       "124"
      ]
     },
     "execution_count": 8,
     "metadata": {},
     "output_type": "execute_result"
    }
   ],
   "source": [
    "sentence_embeddings=[]\n",
    "for s in sentences:\n",
    "    sentence_embeddings.append(embed(s))\n",
    "\n",
    "print('Sample BERT embedding vector - length', len(sentence_embeddings[0]))\n",
    "# print('Sample BERT embedding vector - note includes negative values', sentence_embeddings[0])\n",
    "len(sentence_embeddings)"
   ]
  },
  {
   "cell_type": "code",
   "execution_count": 9,
   "metadata": {},
   "outputs": [
    {
     "data": {
      "text/plain": [
       "array([-2.16662360e-01, -4.63817587e-01,  2.67751892e+00,  4.44993963e-01,\n",
       "        6.90312505e-01, -4.85820939e-01, -8.26238354e-01,  8.99875879e-01,\n",
       "        5.05570124e-01, -3.66523646e-01, -8.14572394e-01,  5.23707310e-01,\n",
       "        2.80863966e-02,  2.14932821e-01,  1.32937769e+00,  2.74734189e-01,\n",
       "       -4.99239226e-01, -3.43539342e-01, -8.14078661e-02, -5.72722226e-01,\n",
       "       -1.21671890e-01,  3.92550667e-01, -6.58886453e-01, -8.57166469e-01,\n",
       "       -2.74525081e-01, -9.00271932e-01,  1.49889109e-01, -1.31806731e+00,\n",
       "       -6.81302379e-01,  1.78431869e-01, -2.38766948e-01,  3.38293829e-01,\n",
       "        5.60491463e-01, -8.35059782e-01,  3.59775573e-02,  5.42597135e-01,\n",
       "        3.58742741e-02,  4.64862883e-01, -1.79388964e-01, -4.99451349e-01,\n",
       "        8.44086727e-01,  3.68773565e-02,  8.40416829e-01, -2.49911830e-01,\n",
       "       -6.65789247e-01, -6.84069127e-01, -4.69168033e-02,  3.26650014e-01,\n",
       "        1.53614969e-01, -7.92562038e-01,  1.59098784e-01, -5.40873349e-01,\n",
       "        1.38654686e-01,  3.96100947e-02,  1.76589253e-03,  3.39771050e-01,\n",
       "        5.58204254e-01, -7.04483648e-01,  3.74896422e-01,  5.29773792e-01,\n",
       "       -4.98329312e-01, -3.83942634e-01,  8.76540919e-01,  6.02923721e-01,\n",
       "       -7.54033883e-01,  4.45108463e-01,  6.41154667e-01, -9.41385806e-01,\n",
       "       -4.42591692e-01, -7.19773034e-01,  7.44757255e-01, -9.93066803e-02,\n",
       "        2.47080612e-02,  5.19245158e-01, -9.63346263e-01, -2.95157261e-01,\n",
       "       -1.77766167e-01,  5.84575733e-01,  3.29759988e-01,  9.65706329e-01,\n",
       "        5.40524827e-01, -2.09394177e-01,  8.89497320e-01,  3.52715055e-01,\n",
       "        3.21530680e-01, -1.72384496e-01,  4.09019788e-01,  5.34455240e-01,\n",
       "       -1.22631661e+00,  1.05815335e-01,  2.93733038e-01, -8.84217533e-02,\n",
       "        6.02978930e-01, -9.53253110e-03,  3.16983630e-01, -2.49341513e-01,\n",
       "       -2.13737230e-01, -6.47466610e-01, -5.40556779e-01, -5.08851906e-01,\n",
       "       -9.86374438e-01,  9.49270964e-02, -4.97487317e-01, -2.82862294e-01,\n",
       "       -5.94773819e-02,  4.54811931e-01, -2.04628309e-01, -5.11143719e-01,\n",
       "        3.53597894e-01,  8.07673713e-01, -4.34289326e-02,  3.86528358e-01,\n",
       "        9.06354030e-01, -2.34884180e-01, -2.35266966e-01, -4.05471951e-01,\n",
       "       -1.28176848e+00,  6.53159916e-01,  4.48308130e-01,  7.36628403e-01,\n",
       "       -3.90904983e-01,  7.20077465e-01,  6.25136097e-02, -5.63978314e-01,\n",
       "        6.74770405e-01, -6.07609481e-01,  3.71761079e-01, -2.10669559e-01,\n",
       "       -1.19574827e+00, -1.37832032e-01, -3.84911701e-01,  2.17442443e-01,\n",
       "        1.69798638e-01, -1.05702863e-01,  2.10111260e-01,  3.29684794e-01,\n",
       "        4.97076939e-01, -2.51981472e-01, -3.02627469e-01, -1.90015027e-01,\n",
       "       -7.16757258e-01,  5.44263879e-01, -1.41353545e-01,  3.10966663e-01,\n",
       "        2.69940389e-01, -5.54645906e-01,  2.55479674e-01, -5.16389916e-01,\n",
       "       -2.77477446e-01, -2.16948340e-01, -4.14370418e-01,  5.07121980e-01,\n",
       "       -2.49441223e-01, -3.81075645e-01, -5.74727555e-01, -1.56818728e-01,\n",
       "       -8.99898311e-01,  1.51860559e+00, -5.18402321e-02,  9.96901592e-02,\n",
       "       -1.22423521e-01,  9.46172357e-01,  4.29174850e-01, -5.37072221e-01,\n",
       "       -2.34459026e-01, -3.79830778e-01, -2.02071003e-01,  9.95970070e-01,\n",
       "        2.81628023e-01, -1.62433522e-02,  7.52370914e-01, -7.34981785e-01,\n",
       "       -9.52800860e-02,  3.14097668e-01,  2.12025460e-01,  2.09736417e-01,\n",
       "        1.93594694e-01,  7.05475966e-01,  3.12414697e-01, -1.72589262e-01,\n",
       "        7.04036007e-01,  1.04771738e-01,  6.27016455e-01, -7.44248688e-01,\n",
       "       -1.29971099e+00, -9.49883918e-01, -1.18760169e-01, -2.39612167e-01,\n",
       "        8.71479074e-01,  4.26713814e-01, -1.53561646e-01, -5.71400533e-01,\n",
       "       -3.66947586e-01, -1.18935424e+00, -2.06403447e-01, -3.08353756e-01,\n",
       "       -5.91180921e-02, -4.98265446e-02,  4.06551609e-01,  1.69028074e-01,\n",
       "        1.17910018e+00, -3.61471360e-01,  1.83673851e-01, -1.94637830e-01,\n",
       "        4.69555711e-01,  4.44235841e-01, -8.58343899e-01,  2.03848186e-01,\n",
       "        3.48108139e-01, -3.91852319e-01, -4.51997985e-01,  1.12026083e+00,\n",
       "        9.39385593e-01,  1.94389358e-01, -2.32052401e-01, -3.56105407e-01,\n",
       "        4.95006353e-01, -1.21213086e-01, -1.73656705e-01, -4.05641367e-01,\n",
       "        4.88396595e-01,  3.66807137e-01, -1.60632280e-01,  2.92749777e-02,\n",
       "       -6.60570949e-01,  8.57501447e-01,  4.22541589e-01,  2.07515098e-01,\n",
       "        1.15879556e-01, -9.10955191e-01,  1.69265560e-01, -1.28169504e-01,\n",
       "        2.47627810e-02,  3.03593958e-01,  3.22689737e-01,  5.46848168e-01,\n",
       "        7.63025979e-01, -4.68495349e-01, -2.29633879e-01,  8.79843156e-01,\n",
       "        2.98794011e-01,  8.18266208e-01,  2.43184138e-02, -3.05182089e-02,\n",
       "       -1.87645336e+00,  1.70967653e-01,  3.65705711e-01, -1.78166475e-01,\n",
       "        3.73245835e-01,  9.94622191e-01,  4.31731100e-01, -1.12954019e+00,\n",
       "       -4.03156218e-02, -3.59473171e-01,  7.79149781e-02, -5.80759823e-01,\n",
       "       -4.06021237e-01, -8.35253944e-02,  2.46449657e-01, -2.99467141e-01,\n",
       "       -1.92177360e-01, -4.56321587e-01, -6.06533994e-01,  4.13009509e-01,\n",
       "       -4.46632524e-01, -1.14299113e+00, -4.89381184e-01,  2.26925793e-01,\n",
       "       -2.33277130e-01,  3.05599446e-01, -3.81251348e-01,  1.55862634e-01,\n",
       "       -2.17644446e-01, -4.15379037e-01, -1.29697295e-01, -1.89827785e-01,\n",
       "        8.21917752e-01,  2.72072996e-01,  9.58984693e-02, -1.48487339e-03,\n",
       "       -1.37416090e-01, -7.98402429e-01, -1.59284806e+00,  7.35032916e-01,\n",
       "        4.79852368e-01,  1.13743993e-01,  5.32112579e-01, -6.81549231e-01,\n",
       "       -7.09147433e-01, -2.93491359e-02, -6.12981300e-01, -5.27138184e-01,\n",
       "        3.67632712e-01, -7.35421280e-01,  3.68878951e-01, -1.75785905e-01,\n",
       "        8.24603955e-01, -1.05069570e-01, -9.72465237e-01, -4.91933525e-01,\n",
       "       -3.28473506e-01, -9.00260359e-02, -4.70699598e-01,  1.14940296e-01,\n",
       "        5.70309480e-01, -3.97574296e-01, -2.29072906e-01,  1.91148793e-01,\n",
       "       -1.79386411e+00,  4.28827917e-01, -1.44118055e+00,  3.74939322e-01,\n",
       "       -3.07933087e-01, -2.20505041e-01,  2.09315266e-01,  1.27202181e-01,\n",
       "       -5.41123817e-01,  4.89768937e-01, -6.41137024e-01, -9.41740553e-01,\n",
       "       -5.08393377e-01,  5.68410299e-02,  7.98002730e-02,  2.72104065e-01,\n",
       "        3.87011141e-01, -1.54026934e-01, -3.60775489e-01,  4.54080805e-01,\n",
       "       -9.17487522e-01, -5.49906770e-01,  1.04600018e+00, -7.05628929e-02,\n",
       "       -4.90557154e-01,  3.94978931e-01,  1.45336913e-01,  6.97553813e-01,\n",
       "       -1.46913015e-01, -5.04492958e-01,  5.35848945e-01, -1.95079908e-01,\n",
       "       -7.05037514e-01,  3.14623261e-01,  4.60665430e-01, -3.06405410e-01,\n",
       "        1.53047911e+00, -6.98493203e-01, -4.17751749e-01, -1.35773309e+00,\n",
       "        1.85035462e-01,  3.28213831e-01, -2.93485336e-01,  1.15089975e-01,\n",
       "       -9.29188470e-01, -5.13125281e-01, -7.45454391e-01,  5.86068362e-01,\n",
       "        1.32036597e-01, -6.41166151e-01, -8.93302970e-02,  5.35181940e-01,\n",
       "        2.23065399e-01, -3.59028995e-01, -1.04679642e+00,  7.18325178e-02,\n",
       "        2.20735396e-01, -2.96567420e-01, -2.21619954e-02, -7.44055957e-03,\n",
       "        1.68357046e+00, -3.32273771e-01,  4.82015411e-01, -1.39454996e-01,\n",
       "        5.72232738e-01,  9.17504907e-01, -5.47956278e-01,  3.16942389e-01,\n",
       "        6.40183892e-02, -1.01270306e+00,  1.44302602e-01, -2.70533924e-01,\n",
       "        6.61446015e-01, -7.24581331e-01,  3.47378522e-01,  3.21528211e-01,\n",
       "        5.30761133e-02,  4.79084680e-01, -1.59856175e-01, -2.00676477e-01,\n",
       "       -8.13487023e-02, -2.94062063e-01,  3.86635338e-01,  8.14552387e-01,\n",
       "       -2.92063477e-01, -1.73438352e-01, -9.86220607e-02, -1.58616980e+00,\n",
       "       -5.55648834e-01,  7.78854787e-01, -3.81644803e-02, -3.08783591e-01,\n",
       "        3.00080881e-01,  2.15993998e-01,  4.15754805e-01,  1.11995488e-01,\n",
       "        1.02577260e-01, -1.33454949e-01,  7.04713861e-01, -3.04347525e-01,\n",
       "       -3.89367908e-01, -1.94149227e-01, -3.24765315e-01,  9.86160102e-02,\n",
       "       -8.06774358e-01,  1.23565396e-02, -4.76779570e-01,  8.38796059e-01,\n",
       "        1.04109476e+00, -6.54133362e-01,  1.13298591e+00,  1.15379751e+00,\n",
       "       -3.95246431e-01, -8.09335073e-01, -2.53360207e-01, -3.51255837e-01,\n",
       "       -2.55155817e-01, -7.46916831e-02,  5.30828834e-02, -4.37929968e-01,\n",
       "       -7.07021832e-01, -6.46001240e-01, -6.47903373e-01,  4.23106084e-01,\n",
       "       -8.09303363e-01,  9.66248473e-01,  1.18726349e+00, -4.61729397e-01,\n",
       "       -6.11705370e-02,  6.05639120e-02, -1.08091870e-01,  2.00069085e-01,\n",
       "        7.07840522e-01, -2.75260170e-01, -9.42394634e-01,  3.03156887e-01,\n",
       "        7.18455960e-02,  4.33823859e-01,  1.87242846e-01, -5.73496699e-01,\n",
       "       -4.04645388e-01, -7.76460866e-01,  3.50017389e-01,  5.96680303e-01,\n",
       "       -1.97170258e-01,  2.71304877e-02, -5.63841934e-03,  6.62875454e-01,\n",
       "       -5.17595063e-01,  1.95722769e-01,  3.40717668e-01, -4.54483549e-01,\n",
       "       -1.73187253e-01, -3.37992653e-01, -3.78711579e-01, -3.86349529e-01,\n",
       "       -7.14032133e-01, -3.03927347e-01, -3.63681624e-01,  5.25195320e-01,\n",
       "        8.82197991e-02,  4.62654501e-01,  3.32819149e-02, -4.70010812e-02,\n",
       "       -9.34759478e-02,  1.03511823e-01,  1.51109697e-01,  6.12069756e-01,\n",
       "       -1.74775831e+00,  7.11593648e-01,  9.10298036e-02,  5.32689383e-01,\n",
       "        1.57118663e-01,  5.99232157e-01, -4.33654418e-01, -5.13968637e-01,\n",
       "       -5.96426278e-01,  3.07017058e-01,  2.66001637e-01,  6.14503510e-02,\n",
       "        1.47451150e+00,  1.35659285e-01, -6.17654185e-01, -5.80379417e-01,\n",
       "       -3.66574983e-01, -1.41971648e+00, -3.65418874e-01,  6.41970870e-02,\n",
       "       -5.37547251e-01,  4.89433070e-01, -4.09986079e-03,  4.83273238e-01,\n",
       "       -4.25036522e-01,  1.16620123e-01, -7.20283131e-01, -1.34731468e-01,\n",
       "       -2.85741640e-01,  8.07675620e-01, -6.03722016e-01,  2.51710456e-01,\n",
       "       -1.95108073e-01,  3.92592659e-01, -7.91871895e-01,  5.01713117e-01,\n",
       "       -1.61689683e-01,  2.61483868e-01,  1.74179487e-02,  2.90916757e-01,\n",
       "        4.27636733e-01,  1.38672724e-01, -3.28236923e-01, -6.57847881e-01,\n",
       "       -8.14203749e-01,  5.56381971e-01,  5.89239572e-02, -1.04752624e-01,\n",
       "       -1.10930185e+00, -2.95899774e-01,  1.07410637e-01, -7.13466009e-01,\n",
       "        8.50513895e-01,  3.22396244e-01,  1.16238249e-01,  3.28066867e-03,\n",
       "        2.27291781e-01,  1.43882819e-01,  6.21123771e-01,  1.13775360e-01,\n",
       "       -5.25067627e-01, -3.76092345e-02,  5.74167791e-01,  4.61790770e-01,\n",
       "        1.53020099e-01,  5.00651588e-01, -3.13645373e-01, -4.12081192e-01,\n",
       "       -9.36999202e-01, -4.49324469e-01, -4.97745266e-01, -6.48835947e-01,\n",
       "       -1.13460021e-01, -6.73453212e-01, -6.55195942e-01, -1.82511782e-01,\n",
       "        1.31147124e-01, -1.77386495e-01, -3.01869467e-01, -3.18320672e-01,\n",
       "       -7.41071651e-01,  5.60951372e-01,  1.72693289e-01, -7.80286382e-01,\n",
       "        5.14086001e-02, -6.39847418e-03, -9.94688421e-02,  1.54330684e-01,\n",
       "       -4.65523422e-01,  6.57863299e-01,  8.76209618e-02,  1.23296171e-01,\n",
       "        5.99529972e-01,  5.37088782e-01, -3.84401560e-01, -4.50960825e-01,\n",
       "        4.63714299e-01,  2.81996635e-01, -2.56119471e-01, -3.66137693e-01,\n",
       "        3.78887951e-01,  2.21335059e-02, -7.82121420e-01, -1.57654576e-01,\n",
       "        1.75964537e-01,  8.62815579e-01,  5.85079551e-01, -6.26870702e-01,\n",
       "        1.93898949e-01,  6.80355082e-01,  1.02221451e+00, -9.67789332e-01,\n",
       "       -8.32431595e-01,  4.34385667e-01,  1.06582582e+00, -7.51046717e-01,\n",
       "       -1.64176844e-01, -1.00353410e-01, -4.55817829e-02, -4.50294902e-01,\n",
       "       -2.10815407e-02,  1.49899499e+00,  1.02319652e-01,  5.67500840e-01,\n",
       "        2.41255899e-01, -3.87291793e-01, -8.29736809e-01,  9.46333567e-01,\n",
       "        1.60337547e-01, -8.35170547e-02, -7.68085631e-02, -9.67032065e-02,\n",
       "       -2.07123347e-01,  3.19936539e-01,  5.16735832e-01, -1.21555579e+00,\n",
       "       -4.39880540e-02, -4.07867581e-01,  3.29778294e-01, -1.31718759e+00,\n",
       "       -9.15539126e-01, -3.15887911e-01,  1.31808066e+00,  3.62679959e-01,\n",
       "       -3.69235975e-01,  4.53325739e-01, -2.60965916e-01,  1.14835699e-01,\n",
       "        6.99663500e-01, -5.16606480e-01,  3.90988847e-01, -1.20041969e-01,\n",
       "       -4.49343433e-01,  7.17772742e-01,  6.50180717e-01,  9.04857278e-01,\n",
       "        9.88004744e-01, -5.10319531e-01,  4.56738373e-02,  1.51884484e+00,\n",
       "        1.16464011e-01, -3.92060866e-01,  4.74055628e-01,  1.15611335e-01,\n",
       "        6.49721765e-03, -2.90099899e-01,  9.22273537e-01, -4.06635791e-01,\n",
       "       -6.43249924e-02, -1.81859153e-01, -3.59612465e-01,  8.51987322e-01,\n",
       "        6.95310752e-01,  6.43461982e-01,  4.81035978e-01, -8.53223562e-01,\n",
       "       -6.70482039e-01,  4.44793950e-03,  2.63395265e-01,  1.58468448e-01,\n",
       "       -3.52482826e-01,  2.63359477e-01,  6.85791433e-01, -6.78007027e-01,\n",
       "        4.53811288e-01, -1.05427111e-01,  2.26941543e-02, -6.13095125e-01,\n",
       "        7.66844849e-01,  2.10680799e-01, -3.66550175e-01, -2.23551641e-01,\n",
       "       -1.58673353e-02,  2.15539599e-01,  4.77579693e-01, -1.49271476e-01,\n",
       "        9.35351476e-02, -1.30560835e+00, -7.67060922e-02, -1.23614357e-01,\n",
       "        1.45367304e+00,  8.26215208e-01,  6.69950227e-01, -2.68711050e-01,\n",
       "        5.16948829e-01, -6.33696765e-02,  2.60151871e-01, -3.61259431e-02,\n",
       "       -8.01517858e-02, -1.15089312e-01,  3.66417314e-01, -1.52542450e-01,\n",
       "       -3.28403618e-01, -8.40389306e-02,  6.36076788e-01,  1.03946292e+00,\n",
       "        8.37341328e-01, -1.61830088e+00, -1.52121755e-01,  5.03914456e-01,\n",
       "       -2.21676022e-01,  1.62492099e-01,  2.45609532e-01, -9.46613808e-01,\n",
       "       -8.06592127e-01, -5.09210815e-01, -4.48935032e-02,  3.83441509e-01,\n",
       "       -6.75931017e-01, -9.59327479e-01, -6.20042960e-01, -3.30189387e-01,\n",
       "       -1.32770141e-01, -8.86296431e-02,  7.68317898e-01,  5.01303226e-02,\n",
       "        4.42648515e-01,  1.06994794e+00,  3.46378908e-01,  1.16415906e+00,\n",
       "       -3.08077807e-02,  3.55680391e-01,  4.09354627e-01, -6.66158497e-01,\n",
       "       -8.10750961e-01,  1.77368067e-01, -4.13245526e-01,  3.87758185e-01,\n",
       "       -2.01898192e-01, -5.30783335e-01,  6.97648068e-01, -2.31983431e-01,\n",
       "       -8.15651596e-01, -7.09056874e-01, -6.53526018e-01,  7.29851981e-01,\n",
       "       -7.50524378e-02,  5.57222356e-01,  9.45369641e-01, -2.52293917e-01,\n",
       "       -2.80859157e-01,  2.05075192e-01, -1.18717957e-01,  2.40877668e-01,\n",
       "       -6.04921778e-01, -6.36919071e-01,  6.39961089e-02,  5.42324950e-01,\n",
       "       -3.78078322e-01,  1.95870621e-01, -9.49462317e-02,  1.93576806e-01,\n",
       "       -3.93973914e-01,  6.61911728e-02,  2.37550701e-01, -1.56771113e-01,\n",
       "       -3.72109090e-01, -6.59486473e-01,  2.55416838e-01,  1.22205997e+00,\n",
       "       -8.03085665e-01,  6.39752795e-02,  5.93319411e-03, -6.98748887e-01,\n",
       "        1.08192700e+00,  3.85451923e-01, -8.54005193e-02, -4.81665115e-01,\n",
       "        3.29879268e-01, -1.93924055e-01, -3.38701129e-01,  6.00819449e-01])"
      ]
     },
     "execution_count": 9,
     "metadata": {},
     "output_type": "execute_result"
    }
   ],
   "source": [
    "sentence_embeddings[123]"
   ]
  },
  {
   "cell_type": "code",
   "execution_count": 10,
   "metadata": {},
   "outputs": [
    {
     "name": "stdout",
     "output_type": "stream",
     "text": [
      "Sentence = She decided to test the waters by taking on a part-time job before quitting her full-time job. ; similarity = 0.9499812633468425\n",
      "Sentence = She decided to try out the waters by taking on a part-time job before quitting her full-time job. ; similarity = 0.9454088215823077\n",
      "Sentence = She decided to test the pool by taking on a part-time job before quitting her full-time job. ; similarity = 0.9343081857945447\n",
      "Sentence = This is an example sentence. ; similarity = 0.7516503609609869\n",
      "Sentence = Another example sentence. ; similarity = 0.7174621032938842\n",
      "Sentence = BERT embeddings clustering is cool. ; similarity = 0.6608726459007593\n",
      "Sentence = Machine learning is a subset of artificial intelligence. ; similarity = 0.7656481593090728\n",
      "Sentence = Natural language processing is a fascinating field. ; similarity = 0.7132207842069621\n",
      "Sentence = Deep learning models are becoming more sophisticated. ; similarity = 0.7582219192204852\n",
      "Sentence = Data science involves extracting insights from data. ; similarity = 0.6589594261913431\n",
      "Sentence = Reinforcement learning is used in training autonomous agents. ; similarity = 0.7868462286885585\n",
      "Sentence = The internet of things connects devices and data. ; similarity = 0.6213469632117824\n",
      "Sentence = Artificial neural networks mimic the human brain. ; similarity = 0.5976595602945451\n",
      "Sentence = Quantum computing has the potential to revolutionize computing. ; similarity = 0.6865552431679389\n",
      "Sentence = Statistical analysis is crucial for making data-driven decisions. ; similarity = 0.7301412844888538\n",
      "Sentence = Cloud computing provides scalable and flexible resources. ; similarity = 0.6015137873083827\n",
      "Sentence = Blockchain technology ensures secure and transparent transactions. ; similarity = 0.585076678389108\n",
      "Sentence = Virtual reality immerses users in digital environments. ; similarity = 0.6307028892307383\n",
      "Sentence = Augmented reality overlays digital information on the real world. ; similarity = 0.7085676303991512\n",
      "Sentence = Big data analytics handles large volumes of data for insights. ; similarity = 0.5965998366121427\n",
      "Sentence = Cybersecurity is essential to protect digital assets. ; similarity = 0.6932699299561513\n",
      "Sentence = Ethical considerations are important in technology development. ; similarity = 0.6879252675337391\n",
      "Sentence = The future of technology is exciting and full of possibilities. ; similarity = 0.6767051002920208\n",
      "Sentence = The sky is blue. ; similarity = 0.5009132750865087\n",
      "Sentence = I love programming. ; similarity = 0.47459688649261567\n",
      "Sentence = Cats are adorable. ; similarity = 0.28620802932773665\n",
      "Sentence = Python is a versatile language. ; similarity = 0.6350522219296035\n",
      "Sentence = The beach is so relaxing. ; similarity = 0.5589065934380781\n",
      "Sentence = Music brings people together. ; similarity = 0.5220485352108664\n",
      "Sentence = Learning is a lifelong journey. ; similarity = 0.738807047695005\n",
      "Sentence = Books open up new worlds. ; similarity = 0.6530915782350397\n",
      "Sentence = The sun sets in the west. ; similarity = 0.6765381682256778\n",
      "Sentence = Coffee fuels my mornings. ; similarity = 0.564118648817456\n",
      "Sentence = Laughter is contagious. ; similarity = 0.37033027881359504\n",
      "Sentence = Rainy days are perfect for reading. ; similarity = 0.7113515328758516\n",
      "Sentence = Mountains are majestic. ; similarity = 0.41522877555980275\n",
      "Sentence = Artistic expression is important. ; similarity = 0.6946928633926466\n",
      "Sentence = Education is the key to success. ; similarity = 0.7303592265843089\n",
      "Sentence = Family is where life begins. ; similarity = 0.7414368321489235\n",
      "Sentence = Traveling broadens the mind. ; similarity = 0.5863322774656207\n",
      "Sentence = Friendship is a precious gift. ; similarity = 0.6375626919727592\n",
      "Sentence = The internet connects us all. ; similarity = 0.5436329050932938\n",
      "Sentence = Success requires hard work. ; similarity = 0.6173363001574244\n",
      "Sentence = The moon lights up the night sky. ; similarity = 0.5248875731257923\n",
      "Sentence = Happiness comes from within. ; similarity = 0.5816343199035771\n",
      "Sentence = Nature is full of beauty. ; similarity = 0.6007055893819025\n",
      "Sentence = Time heals all wounds. ; similarity = 0.5263490272131317\n",
      "Sentence = The start is always the hardest. ; similarity = 0.7614631860029021\n",
      "Sentence = Kindness costs nothing. ; similarity = 0.5097593523868612\n",
      "Sentence = Failure is a stepping stone to success. ; similarity = 0.7662166090783364\n",
      "Sentence = Patience is a virtue. ; similarity = 0.717781829851118\n",
      "Sentence = Dream big, achieve bigger. ; similarity = 0.4886527294491535\n",
      "Sentence = Change is the only constant. ; similarity = 0.7915242568575482\n",
      "Sentence = The world is full of possibilities. ; similarity = 0.6546228082267845\n",
      "Sentence = Actions speak louder than words. ; similarity = 0.5677719611761701\n",
      "Sentence = Imagination knows no bounds. ; similarity = 0.7131168671471542\n",
      "Sentence = Learning from mistakes is important. ; similarity = 0.70658133229094\n",
      "Sentence = A smile brightens up any day. ; similarity = 0.532486504871916\n",
      "Sentence = Innovation drives progress. ; similarity = 0.5421779105847668\n",
      "Sentence = The future is what we make it. ; similarity = 0.7841689428235907\n",
      "Sentence = Dance like nobody's watching. ; similarity = 0.5582567028394312\n",
      "Sentence = The ocean is full of wonders. ; similarity = 0.5920076488166787\n",
      "Sentence = Challenges make us stronger. ; similarity = 0.6933597749019393\n",
      "Sentence = Love knows no boundaries. ; similarity = 0.6400398701042983\n",
      "Sentence = Simplicity is the ultimate sophistication. ; similarity = 0.7427742678978053\n",
      "Sentence = Courage leads to success. ; similarity = 0.6154920758013389\n",
      "Sentence = Empathy makes the world better. ; similarity = 0.6886632356502851\n",
      "Sentence = The sun also rises. ; similarity = 0.46175539017491796\n",
      "Sentence = Stay curious, stay learning. ; similarity = 0.6374507613577892\n",
      "Sentence = The only limit is your mind. ; similarity = 0.7867945468453295\n",
      "Sentence = Resilience conquers adversity. ; similarity = 0.5825457880525546\n",
      "Sentence = Kindness is a language everyone understands. ; similarity = 0.7060999303763171\n",
      "Sentence = Believe you can and you're halfway there. ; similarity = 0.7658804672460655\n",
      "Sentence = Adventure awaits those who seek it. ; similarity = 0.7771804316952664\n",
      "Sentence = Life is a journey, not a destination. ; similarity = 0.7670110677901383\n",
      "Sentence = Nature has a calming effect. ; similarity = 0.6479923922432\n",
      "Sentence = Determination overcomes obstacles. ; similarity = 0.6093271897210925\n",
      "Sentence = Success is sweetest after struggle. ; similarity = 0.5601941485194565\n",
      "Sentence = Every day is a second chance. ; similarity = 0.8307428898652904\n",
      "Sentence = Wisdom comes with experience. ; similarity = 0.6976127365218731\n",
      "Sentence = Find joy in the little things. ; similarity = 0.670349201489936\n",
      "Sentence = The best is yet to come. ; similarity = 0.8015524844835372\n",
      "Sentence = A positive attitude changes everything. ; similarity = 0.6758567584185351\n",
      "Sentence = Create, don't just consume. ; similarity = 0.658908276685129\n",
      "Sentence = Stay focused and never give up. ; similarity = 0.671267747411142\n",
      "Sentence = Knowledge is power. ; similarity = 0.6223519988040661\n",
      "Sentence = Inspiration can be found everywhere. ; similarity = 0.6746098542876412\n",
      "Sentence = Celebrate the present moment. ; similarity = 0.7195372897540716\n",
      "Sentence = Don't just dream, take action. ; similarity = 0.7285308588809896\n",
      "Sentence = Miracles happen every day. ; similarity = 0.5927195482247399\n",
      "Sentence = The Earth is our home. ; similarity = 0.659722623629767\n",
      "Sentence = Make each day your masterpiece. ; similarity = 0.7381573048352279\n",
      "Sentence = Laughter is the best medicine. ; similarity = 0.5849168365877165\n",
      "Sentence = Find strength in adversity. ; similarity = 0.6472367470433036\n",
      "Sentence = Listen more, speak less. ; similarity = 0.7209861287274154\n",
      "Sentence = Home is where the heart is. ; similarity = 0.7255298318858511\n",
      "Sentence = Strive for progress, not perfection. ; similarity = 0.7706935954464736\n",
      "Sentence = Your attitude determines your direction. ; similarity = 0.7155657914808813\n",
      "Sentence = The pen is mightier than the sword. ; similarity = 0.6742134241648138\n",
      "Sentence = Be the change you wish to see. ; similarity = 0.7893683968068337\n",
      "Sentence = Be yourself, everyone else is taken. ; similarity = 0.7422114159206794\n",
      "Sentence = Success starts with a single step. ; similarity = 0.8115266559869645\n",
      "Sentence = Stay humble and kind. ; similarity = 0.528519203875554\n",
      "Sentence = Perseverance leads to success. ; similarity = 0.6718689993941008\n",
      "Sentence = Seize the day! ; similarity = 0.6474239378963409\n",
      "Sentence = Life is what you make it. ; similarity = 0.7772231097531956\n",
      "Sentence = A journey of a thousand miles begins with a single step. ; similarity = 0.7839821303091888\n",
      "Sentence = Follow your passions. ; similarity = 0.6577690280877847\n",
      "Sentence = Dreams are meant to be chased. ; similarity = 0.7871874756514594\n",
      "Sentence = The past does not define the future. ; similarity = 0.7516312639511963\n",
      "Sentence = Embrace the unknown with courage. ; similarity = 0.6829556466953841\n",
      "Sentence = Compassion makes the world brighter. ; similarity = 0.6761732043921146\n",
      "Sentence = Discover the beauty in diversity. ; similarity = 0.5517048219558758\n",
      "Sentence = Keep pushing your limits. ; similarity = 0.7617231265088361\n",
      "Sentence = Learn from the past, live in the present, plan for the future. ; similarity = 0.8192949674835677\n",
      "Sentence = The greatest risk is not taking any risks. ; similarity = 0.7597693516303194\n",
      "Sentence = Find happiness within yourself. ; similarity = 0.5276540611012059\n",
      "Sentence = Stay hungry for knowledge. ; similarity = 0.6481689385038785\n",
      "Sentence = Live and let live. ; similarity = 0.6850441728352806\n",
      "Sentence = You are capable of amazing things. ; similarity = 0.6335286026368752\n",
      "Sentence = Mistakes are proof that you're trying. ; similarity = 0.7741116720190524\n",
      "Sentence = Be the hero of your own story. ; similarity = 0.7649599204451409\n",
      "Sentence = Spread positivity wherever you go. ; similarity = 0.6832634022757572\n"
     ]
    }
   ],
   "source": [
    "reference_embedding = sentence_embeddings[0]\n",
    "\n",
    "for i in range(1, len(sentences)):\n",
    "    sim = cosine(reference_embedding, sentence_embeddings[i])\n",
    "    print(\"Sentence =\", sentences[i], \"; similarity =\", sim)\n"
   ]
  },
  {
   "cell_type": "code",
   "execution_count": 11,
   "metadata": {},
   "outputs": [],
   "source": [
    "import os\n",
    "import matplotlib.pyplot as plt\n",
    "from sklearn.cluster import KMeans\n",
    "from sklearn.decomposition import PCA"
   ]
  },
  {
   "cell_type": "code",
   "execution_count": 12,
   "metadata": {},
   "outputs": [
    {
     "name": "stderr",
     "output_type": "stream",
     "text": [
      "c:\\Users\\siddh\\anaconda3\\envs\\project\\lib\\site-packages\\sklearn\\cluster\\_kmeans.py:1436: UserWarning: KMeans is known to have a memory leak on Windows with MKL, when there are less chunks than available threads. You can avoid it by setting the environment variable OMP_NUM_THREADS=1.\n",
      "  warnings.warn(\n",
      "No artists with labels found to put in legend.  Note that artists whose label start with an underscore are ignored when legend() is called with no argument.\n"
     ]
    },
    {
     "data": {
      "image/png": "[encoded data removed]",
      "text/plain": [
       "<Figure size 640x480 with 1 Axes>"
      ]
     },
     "metadata": {},
     "output_type": "display_data"
    }
   ],
   "source": [
    "# Convert embeddings to a format suitable for clustering\n",
    "data_points = np.vstack(sentence_embeddings)\n",
    "\n",
    "# Set environment variable to mitigate memory leak issue\n",
    "os.environ['OMP_NUM_THREADS'] = '1'\n",
    "\n",
    "# Create KMeans object with n_init parameter\n",
    "kmeans = KMeans(n_clusters=10, n_init=10)\n",
    "kmeans.fit(data_points)\n",
    "cluster_centers = kmeans.cluster_centers_\n",
    "\n",
    "# Perform PCA for dimensionality reduction\n",
    "pca = PCA(n_components=2)\n",
    "pca_embeddings = pca.fit_transform(data_points)\n",
    "\n",
    "# Create a 2D scatter plot to visualize clusters\n",
    "plt.scatter(pca_embeddings[:, 0], pca_embeddings[:, 1], c=kmeans.labels_, cmap='viridis')\n",
    "# plt.scatter(cluster_centers[:, 0], cluster_centers[:, 1], color='red', marker='x', s=100, label='Cluster Centers')\n",
    "plt.xlabel('Principal Component 1')\n",
    "plt.ylabel('Principal Component 2')\n",
    "plt.title('BERT Embeddings Clustering')\n",
    "plt.legend()\n",
    "plt.show()"
   ]
  },
  {
   "cell_type": "code",
   "execution_count": 13,
   "metadata": {},
   "outputs": [
    {
     "name": "stderr",
     "output_type": "stream",
     "text": [
      "[nltk_data] Downloading package wordnet to\n",
      "[nltk_data]     C:\\Users\\siddh\\AppData\\Roaming\\nltk_data...\n",
      "[nltk_data]   Package wordnet is already up-to-date!\n"
     ]
    },
    {
     "data": {
      "text/plain": [
       "True"
      ]
     },
     "execution_count": 13,
     "metadata": {},
     "output_type": "execute_result"
    }
   ],
   "source": [
    "import nltk\n",
    "from nltk.corpus import wordnet\n",
    "\n",
    "nltk.download('wordnet')"
   ]
  },
  {
   "cell_type": "code",
   "execution_count": 14,
   "metadata": {},
   "outputs": [],
   "source": [
    "def find_closest_synonyms(word, num_synonyms=10):\n",
    "    synonyms = []\n",
    "    for syn in wordnet.synsets(word):\n",
    "        for lemma in syn.lemmas():\n",
    "            synonyms.append(lemma.name())\n",
    "    # Remove duplicates\n",
    "    synonyms = list(set(synonyms))\n",
    "    \n",
    "    # If available synonyms are fewer than num_synonyms, use all available synonyms\n",
    "    num_synonyms = min(num_synonyms, len(synonyms))\n",
    "    \n",
    "    # Select num_synonyms synonyms\n",
    "    selected_synonyms = synonyms[:num_synonyms]\n",
    "    \n",
    "    return selected_synonyms"
   ]
  },
  {
   "cell_type": "code",
   "execution_count": 15,
   "metadata": {},
   "outputs": [
    {
     "data": {
      "text/plain": [
       "['Sir_Thomas_More',\n",
       " 'Thomas_More',\n",
       " 'More',\n",
       " 'more',\n",
       " 'to_a_greater_extent',\n",
       " 'more_than']"
      ]
     },
     "execution_count": 15,
     "metadata": {},
     "output_type": "execute_result"
    }
   ],
   "source": [
    "find_closest_synonyms(\"more\")"
   ]
  },
  {
   "cell_type": "code",
   "execution_count": 16,
   "metadata": {},
   "outputs": [],
   "source": [
    "import spacy\n",
    "\n",
    "nlp = spacy.load(\"en_core_web_lg\")  # Load the medium English model"
   ]
  },
  {
   "cell_type": "code",
   "execution_count": 17,
   "metadata": {},
   "outputs": [],
   "source": [
    "def remove_underscores(synonyms):\n",
    "    cleaned_synonyms = [syn.replace('_', ' ') for syn in synonyms]\n",
    "    return cleaned_synonyms"
   ]
  },
  {
   "cell_type": "code",
   "execution_count": 18,
   "metadata": {},
   "outputs": [],
   "source": [
    "def find_most_sim(word,synonyms):\n",
    "    maxsim=0\n",
    "    sim=0\n",
    "    fsyn=\"\"\n",
    "    for syn in synonyms:\n",
    "        if (word.lower() not in syn.lower()) and (syn.lower() not in word.lower()):\n",
    "            sim=nlp(word).similarity(nlp(syn))\n",
    "            if sim>maxsim:\n",
    "                maxsim=sim\n",
    "                fsyn=syn\n",
    "\n",
    "    return fsyn,maxsim"
   ]
  },
  {
   "cell_type": "code",
   "execution_count": 19,
   "metadata": {},
   "outputs": [],
   "source": [
    "import random"
   ]
  },
  {
   "cell_type": "code",
   "execution_count": 20,
   "metadata": {},
   "outputs": [],
   "source": [
    "def select_random(sentence):\n",
    "    doc = nlp(sentence)\n",
    "    words = [token.text for token in doc if token.pos_ in ['VERB']]\n",
    "    if(len(words)==0):\n",
    "        return doc[random.randrange(len(sentence.split()))].text\n",
    "    random_word_index = random.randrange(len(words))  # Generate a random index\n",
    "    random_word = words[random_word_index]\n",
    "    return random_word"
   ]
  },
  {
   "cell_type": "code",
   "execution_count": 21,
   "metadata": {},
   "outputs": [],
   "source": [
    "def replace_w_aug(sentence):\n",
    "    word=select_random(sentence)\n",
    "    final,simval = find_most_sim(word,remove_underscores(find_closest_synonyms(word)))\n",
    "    l=sentence.split()\n",
    "    l[l.index(word)]=final\n",
    "    l=' '.join(l)\n",
    "    return l"
   ]
  },
  {
   "cell_type": "code",
   "execution_count": 22,
   "metadata": {},
   "outputs": [],
   "source": [
    "def select_random_2(sentence):\n",
    "    doc = nlp(sentence)\n",
    "    words = [token.text for token in doc if token.pos_ in ['NOUN','ADJ']]\n",
    "    if(len(words)==0):\n",
    "        return doc[random.randrange(len(sentence.split()))].text\n",
    "    random_word_index = random.randrange(len(words))  # Generate a random index\n",
    "    random_word = words[random_word_index]\n",
    "    return random_word"
   ]
  },
  {
   "cell_type": "code",
   "execution_count": 23,
   "metadata": {},
   "outputs": [],
   "source": [
    "def replace_w_aug_2(sentence):\n",
    "    word=select_random_2(sentence)\n",
    "    final,simval = find_most_sim(word,remove_underscores(find_closest_synonyms(word)))\n",
    "    l=sentence.split()\n",
    "    l[l.index(word)]=final\n",
    "    l=' '.join(l)\n",
    "    return l"
   ]
  },
  {
   "cell_type": "code",
   "execution_count": 24,
   "metadata": {},
   "outputs": [],
   "source": [
    "sentence=\"the age of artificial intelligence is now\""
   ]
  },
  {
   "cell_type": "code",
   "execution_count": 25,
   "metadata": {},
   "outputs": [
    {
     "data": {
      "text/plain": [
       "'the age of contrived intelligence is now'"
      ]
     },
     "execution_count": 25,
     "metadata": {},
     "output_type": "execute_result"
    }
   ],
   "source": [
    "replace_w_aug(sentence)"
   ]
  },
  {
   "cell_type": "code",
   "execution_count": 26,
   "metadata": {},
   "outputs": [
    {
     "data": {
      "text/plain": [
       "'the age of contrived intelligence is now'"
      ]
     },
     "execution_count": 26,
     "metadata": {},
     "output_type": "execute_result"
    }
   ],
   "source": [
    "replace_w_aug_2(sentence)"
   ]
  },
  {
   "cell_type": "code",
   "execution_count": 27,
   "metadata": {},
   "outputs": [],
   "source": [
    "from sklearn.metrics.pairwise import cosine_similarity\n",
    "from sklearn.neighbors import NearestNeighbors"
   ]
  },
  {
   "cell_type": "code",
   "execution_count": 28,
   "metadata": {},
   "outputs": [
    {
     "data": {
      "text/html": [
       "<style>#sk-container-id-1 {color: black;}#sk-container-id-1 pre{padding: 0;}#sk-container-id-1 div.sk-toggleable {background-color: white;}#sk-container-id-1 label.sk-toggleable__label {cursor: pointer;display: block;width: 100%;margin-bottom: 0;padding: 0.3em;box-sizing: border-box;text-align: center;}#sk-container-id-1 label.sk-toggleable__label-arrow:before {content: \"▸\";float: left;margin-right: 0.25em;color: #696969;}#sk-container-id-1 label.sk-toggleable__label-arrow:hover:before {color: black;}#sk-container-id-1 div.sk-estimator:hover label.sk-toggleable__label-arrow:before {color: black;}#sk-container-id-1 div.sk-toggleable__content {max-height: 0;max-width: 0;overflow: hidden;text-align: left;background-color: #f0f8ff;}#sk-container-id-1 div.sk-toggleable__content pre {margin: 0.2em;color: black;border-radius: 0.25em;background-color: #f0f8ff;}#sk-container-id-1 input.sk-toggleable__control:checked~div.sk-toggleable__content {max-height: 200px;max-width: 100%;overflow: auto;}#sk-container-id-1 input.sk-toggleable__control:checked~label.sk-toggleable__label-arrow:before {content: \"▾\";}#sk-container-id-1 div.sk-estimator input.sk-toggleable__control:checked~label.sk-toggleable__label {background-color: #d4ebff;}#sk-container-id-1 div.sk-label input.sk-toggleable__control:checked~label.sk-toggleable__label {background-color: #d4ebff;}#sk-container-id-1 input.sk-hidden--visually {border: 0;clip: rect(1px 1px 1px 1px);clip: rect(1px, 1px, 1px, 1px);height: 1px;margin: -1px;overflow: hidden;padding: 0;position: absolute;width: 1px;}#sk-container-id-1 div.sk-estimator {font-family: monospace;background-color: #f0f8ff;border: 1px dotted black;border-radius: 0.25em;box-sizing: border-box;margin-bottom: 0.5em;}#sk-container-id-1 div.sk-estimator:hover {background-color: #d4ebff;}#sk-container-id-1 div.sk-parallel-item::after {content: \"\";width: 100%;border-bottom: 1px solid gray;flex-grow: 1;}#sk-container-id-1 div.sk-label:hover label.sk-toggleable__label {background-color: #d4ebff;}#sk-container-id-1 div.sk-serial::before {content: \"\";position: absolute;border-left: 1px solid gray;box-sizing: border-box;top: 0;bottom: 0;left: 50%;z-index: 0;}#sk-container-id-1 div.sk-serial {display: flex;flex-direction: column;align-items: center;background-color: white;padding-right: 0.2em;padding-left: 0.2em;position: relative;}#sk-container-id-1 div.sk-item {position: relative;z-index: 1;}#sk-container-id-1 div.sk-parallel {display: flex;align-items: stretch;justify-content: center;background-color: white;position: relative;}#sk-container-id-1 div.sk-item::before, #sk-container-id-1 div.sk-parallel-item::before {content: \"\";position: absolute;border-left: 1px solid gray;box-sizing: border-box;top: 0;bottom: 0;left: 50%;z-index: -1;}#sk-container-id-1 div.sk-parallel-item {display: flex;flex-direction: column;z-index: 1;position: relative;background-color: white;}#sk-container-id-1 div.sk-parallel-item:first-child::after {align-self: flex-end;width: 50%;}#sk-container-id-1 div.sk-parallel-item:last-child::after {align-self: flex-start;width: 50%;}#sk-container-id-1 div.sk-parallel-item:only-child::after {width: 0;}#sk-container-id-1 div.sk-dashed-wrapped {border: 1px dashed gray;margin: 0 0.4em 0.5em 0.4em;box-sizing: border-box;padding-bottom: 0.4em;background-color: white;}#sk-container-id-1 div.sk-label label {font-family: monospace;font-weight: bold;display: inline-block;line-height: 1.2em;}#sk-container-id-1 div.sk-label-container {text-align: center;}#sk-container-id-1 div.sk-container {/* jupyter's `normalize.less` sets `[hidden] { display: none; }` but bootstrap.min.css set `[hidden] { display: none !important; }` so we also need the `!important` here to be able to override the default hidden behavior on the sphinx rendered scikit-learn.org. See: https://github.com/scikit-learn/scikit-learn/issues/21755 */display: inline-block !important;position: relative;}#sk-container-id-1 div.sk-text-repr-fallback {display: none;}</style><div id=\"sk-container-id-1\" class=\"sk-top-container\"><div class=\"sk-text-repr-fallback\"><pre>NearestNeighbors()</pre><b>In a Jupyter environment, please rerun this cell to show the HTML representation or trust the notebook. <br />On GitHub, the HTML representation is unable to render, please try loading this page with nbviewer.org.</b></div><div class=\"sk-container\" hidden><div class=\"sk-item\"><div class=\"sk-estimator sk-toggleable\"><input class=\"sk-toggleable__control sk-hidden--visually\" id=\"sk-estimator-id-1\" type=\"checkbox\" checked><label for=\"sk-estimator-id-1\" class=\"sk-toggleable__label sk-toggleable__label-arrow\">NearestNeighbors</label><div class=\"sk-toggleable__content\"><pre>NearestNeighbors()</pre></div></div></div></div></div>"
      ],
      "text/plain": [
       "NearestNeighbors()"
      ]
     },
     "execution_count": 28,
     "metadata": {},
     "output_type": "execute_result"
    }
   ],
   "source": [
    "k=5\n",
    "nbrs = NearestNeighbors(n_neighbors=k)\n",
    "nbrs.fit(sentence_embeddings)"
   ]
  },
  {
   "cell_type": "code",
   "execution_count": 36,
   "metadata": {},
   "outputs": [],
   "source": [
    "def knn(e,k=5):\n",
    "    distances, indices = nbrs.kneighbors([e])\n",
    "    indices=np.squeeze(indices)\n",
    "    return indices"
   ]
  },
  {
   "cell_type": "code",
   "execution_count": 37,
   "metadata": {},
   "outputs": [
    {
     "name": "stdout",
     "output_type": "stream",
     "text": [
      "[ 7 19 14  8 13]\n"
     ]
    }
   ],
   "source": [
    "sentence = \"the age of artificial intelligence is now\"\n",
    "e = embed(sentence)\n",
    "i = knn(e,5)\n",
    "print(i)"
   ]
  },
  {
   "cell_type": "code",
   "execution_count": 44,
   "metadata": {},
   "outputs": [
    {
     "name": "stderr",
     "output_type": "stream",
     "text": [
      "C:\\Users\\siddh\\AppData\\Local\\Temp\\ipykernel_21960\\2627717052.py:7: UserWarning: [W008] Evaluating Doc.similarity based on empty vectors.\n",
      "  sim=nlp(word).similarity(nlp(syn))\n"
     ]
    },
    {
     "name": "stdout",
     "output_type": "stream",
     "text": [
      "the years of artificial intelligence is now\n",
      "[  7  19  14 115   8]\n"
     ]
    }
   ],
   "source": [
    "s1= replace_w_aug(sentence)\n",
    "e1 = embed(s1)\n",
    "print(s1)\n",
    "i1= knn(e1)\n",
    "print(i1)"
   ]
  },
  {
   "cell_type": "code",
   "execution_count": 45,
   "metadata": {},
   "outputs": [
    {
     "name": "stdout",
     "output_type": "stream",
     "text": [
      "the age of contrived intelligence is now\n",
      "[15  7  8  9 82]\n"
     ]
    }
   ],
   "source": [
    "s2= replace_w_aug_2(sentence)\n",
    "e2 = embed(s2)\n",
    "print(s2)\n",
    "i2 = knn(e2)\n",
    "print(i2)"
   ]
  },
  {
   "cell_type": "code",
   "execution_count": 46,
   "metadata": {},
   "outputs": [
    {
     "name": "stdout",
     "output_type": "stream",
     "text": [
      "Common elements: [7 8]\n",
      "Number of common elements: 2\n"
     ]
    }
   ],
   "source": [
    "common = np.intersect1d(np.intersect1d(i, i1), i2)\n",
    "\n",
    "# Get the number of common elements\n",
    "s = len(common)\n",
    "\n",
    "print(\"Common elements:\", common)\n",
    "print(\"Number of common elements:\", s)"
   ]
  }
 ],
 "metadata": {
  "kernelspec": {
   "display_name": "project",
   "language": "python",
   "name": "python3"
  },
  "language_info": {
   "codemirror_mode": {
    "name": "ipython",
    "version": 3
   },
   "file_extension": ".py",
   "mimetype": "text/x-python",
   "name": "python",
   "nbconvert_exporter": "python",
   "pygments_lexer": "ipython3",
   "version": "3.10.12"
  },
  "orig_nbformat": 4
 },
 "nbformat": 4,
 "nbformat_minor": 2
}
