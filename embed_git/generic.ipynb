{
 "cells": [
  {
   "cell_type": "markdown",
   "metadata": {},
   "source": [
    "Downloaded and created a list of sentences to use as a much larger generic dataset"
   ]
  },
  {
   "cell_type": "code",
   "execution_count": 2,
   "metadata": {},
   "outputs": [],
   "source": [
    "import pandas as pd\n",
    "\n",
    "# Load the TSV file into a pandas DataFrame\n",
    "df = pd.read_csv('generic.tsv', sep='\\t')\n",
    "\n",
    "# Assuming the 4th column is indexed as 3 (0-based index)\n",
    "fourth_column = df.iloc[:, 3]\n",
    "\n",
    "# Convert the fourth column to a list of strings\n",
    "lst = fourth_column.tolist()"
   ]
  },
  {
   "cell_type": "code",
   "execution_count": 3,
   "metadata": {},
   "outputs": [
    {
     "data": {
      "text/plain": [
       "1020868"
      ]
     },
     "execution_count": 3,
     "metadata": {},
     "output_type": "execute_result"
    }
   ],
   "source": [
    "len(lst)"
   ]
  },
  {
   "cell_type": "code",
   "execution_count": 4,
   "metadata": {},
   "outputs": [
    {
     "name": "stdout",
     "output_type": "stream",
     "text": [
      "Koalas are nocturnal marsupials famous for spending most of their lives asleep in trees.\n"
     ]
    }
   ],
   "source": [
    "print(lst[500000])"
   ]
  },
  {
   "cell_type": "code",
   "execution_count": 10,
   "metadata": {},
   "outputs": [],
   "source": [
    "file_path = \"generic.txt\"\n",
    "\n",
    "# Open the file in write mode and use writelines to write the list\n",
    "with open(file_path, \"w\") as file:\n",
    "    file.writelines(\"\\n\".join(lst[::3]))"
   ]
  }
 ],
 "metadata": {
  "kernelspec": {
   "display_name": "base",
   "language": "python",
   "name": "python3"
  },
  "language_info": {
   "codemirror_mode": {
    "name": "ipython",
    "version": 3
   },
   "file_extension": ".py",
   "mimetype": "text/x-python",
   "name": "python",
   "nbconvert_exporter": "python",
   "pygments_lexer": "ipython3",
   "version": "3.11.4"
  },
  "orig_nbformat": 4
 },
 "nbformat": 4,
 "nbformat_minor": 2
}
