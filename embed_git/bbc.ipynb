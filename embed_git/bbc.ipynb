{
 "cells": [
  {
   "cell_type": "markdown",
   "metadata": {},
   "source": [
    "Preprocessed and saved bbc text corpus into a .pkl file for further usage"
   ]
  },
  {
   "cell_type": "code",
   "execution_count": 1,
   "metadata": {},
   "outputs": [],
   "source": [
    "import csv\n",
    "import pickle"
   ]
  },
  {
   "cell_type": "code",
   "execution_count": 2,
   "metadata": {},
   "outputs": [],
   "source": [
    "def has_numbers(input_string):\n",
    "    return any(char.isdigit() for char in input_string)"
   ]
  },
  {
   "cell_type": "code",
   "execution_count": 3,
   "metadata": {},
   "outputs": [
    {
     "name": "stdout",
     "output_type": "stream",
     "text": [
      "First Row: ['business\\t001.txt\\tAd sales boost Time Warner profit\\t Quarterly profits at US media giant TimeWarner jumped 76% to $1.13bn (£600m) for the three months to December', ' from $639m year-earlier.  The firm', ' which is now one of the biggest investors in Google', ' benefited from sales of high-speed internet connections and higher advert sales. TimeWarner said fourth quarter sales rose 2% to $11.1bn from $10.9bn. Its profits were buoyed by one-off gains which offset a profit dip at Warner Bros', ' and less users for AOL.  Time Warner said on Friday that it now owns 8% of search-engine Google. But its own internet business', ' AOL', ' had has mixed fortunes. It lost 464', '000 subscribers in the fourth quarter profits were lower than in the preceding three quarters. However', \" the company said AOL's underlying profit before exceptional items rose 8% on the back of stronger internet advertising revenues. It hopes to increase subscribers by offering the online service free to TimeWarner internet customers and will try to sign up AOL's existing customers for high-speed broadband. TimeWarner also has to restate 2000 and 2003 results following a probe by the US Securities Exchange Commission (SEC)\", \" which is close to concluding.  Time Warner's fourth quarter profits were slightly better than analysts' expectations. But its film division saw profits slump 27% to $284m\", ' helped by box-office flops Alexander and Catwoman', ' a sharp contrast to year-earlier', ' when the third and final film in the Lord of the Rings trilogy boosted results. For the full-year', ' TimeWarner posted a profit of $3.36bn', ' up 27% from its 2003 performance', ' while revenues grew 6.4% to $42.09bn. \"Our financial performance was strong', ' meeting or exceeding all of our full-year objectives and greatly enhancing our flexibility', \" chairman and chief executive Richard Parsons said. For 2005, TimeWarner is projecting operating earnings growth of around 5%, and also expects higher revenue and wider profit margins.  TimeWarner is to restate its accounts as part of efforts to resolve an inquiry into AOL by US market regulators. It has already offered to pay $300m to settle charges, in a deal that is under review by the SEC. The company said it was unable to estimate the amount it needed to set aside for legal reserves, which it previously set at $500m. It intends to adjust the way it accounts for a deal with German music publisher Bertelsmann's purchase of a stake in AOL Europe, which it had reported as advertising revenue. It will now book the sale of its stake in AOL Europe as a loss on the value of that stake. \\nbusiness\\t002.txt\\tDollar gains on Greenspan speech\\t The dollar has hit its highest level against the euro in almost three months after the Federal Reserve head said the US trade deficit is set to stabilise.  And Alan Greenspan highlighted the US government's willingness to curb spending and rising household savings as factors which may help to reduce it. In late trading in New York, the dollar reached $1.2871 against the euro, from $1.2974 on Thursday. Market concerns about the deficit has hit the greenback in recent months. On Friday, Federal Reserve chairman Mr Greenspan's speech in London ahead of the meeting of G7 finance ministers sent the dollar higher after it had earlier tumbled on the back of worse-than-expected US jobs data. I think the chairman's taking a much more sanguine view on the current account deficit than he's taken for some time\", \" said Robert Sinche, head of currency strategy at Bank of America in New York. He's taking a longer-term view\", ' laying out a set of conditions under which the current account deficit can improve this year and next.\"  Worries about the deficit concerns about China do', ' however', \" remain. China's currency remains pegged to the dollar and the US currency's sharp falls in recent months have therefore made Chinese export prices highly competitive. But calls for a shift in Beijing's policy have fallen on deaf ears\", ' despite recent comments in a major Chinese newspaper that the \"time is ripe\" for a loosening of the peg. The G7 meeting is thought unlikely to produce any meaningful movement in Chinese policy. In the meantime', \" the US Federal Reserve's decision on 2 February to boost interest rates by a quarter of a point - the sixth such move in as many months - has opened up a differential with European rates. The half-point window\", ' some believe', ' could be enough to keep US assets looking more attractive', ' and could help prop up the dollar. The recent falls have partly been the result of big budget deficits', \" as well as the US's yawning current account gap\", ' both of which need to be funded by the buying of US bonds and assets by foreign firms and governments. The White House will announce its budget on Monday', ' and many commentators believe the deficit will remain at close to half a trillion dollars. ']\n",
      "1624\n"
     ]
    }
   ],
   "source": [
    "csv_file_path = 'bbc-news-data.csv.save.1'\n",
    "csv_data = []\n",
    "\n",
    "with open(csv_file_path, 'r') as file:\n",
    "    csv_reader = csv.reader(file)\n",
    "    for row in csv_reader:\n",
    "        csv_data.append([str(cell) for cell in row])\n",
    "\n",
    "first_row = csv_data[1]\n",
    "print(\"First Row:\", first_row)\n",
    "\n",
    "print(len(csv_data))"
   ]
  },
  {
   "cell_type": "code",
   "execution_count": 4,
   "metadata": {},
   "outputs": [
    {
     "name": "stdout",
     "output_type": "stream",
     "text": [
      "40140\n"
     ]
    }
   ],
   "source": [
    "final=[]\n",
    "\n",
    "for i in range(len(csv_data)):\n",
    "    concat = \"\".join(csv_data[i])\n",
    "    lst = concat.split(\"\\t\")\n",
    "    for j in range(len(lst)):\n",
    "        if j!=0 and j%3==0:\n",
    "            final.extend(lst[j].split(\". \"))\n",
    "\n",
    "print(len(final))"
   ]
  },
  {
   "cell_type": "code",
   "execution_count": 5,
   "metadata": {},
   "outputs": [],
   "source": [
    "l = [string for string in final if ( not has_numbers(string) and len(string.split())>7)]"
   ]
  },
  {
   "cell_type": "code",
   "execution_count": 6,
   "metadata": {},
   "outputs": [
    {
     "data": {
      "text/plain": [
       "26758"
      ]
     },
     "execution_count": 6,
     "metadata": {},
     "output_type": "execute_result"
    }
   ],
   "source": [
    "len(l)"
   ]
  },
  {
   "cell_type": "code",
   "execution_count": 7,
   "metadata": {},
   "outputs": [
    {
     "data": {
      "text/plain": [
       "'\"It was a little softer than the consensus but not a real surprise said Gary Thayer, an economist at AG Edwards & Sons'"
      ]
     },
     "execution_count": 7,
     "metadata": {},
     "output_type": "execute_result"
    }
   ],
   "source": [
    "l[1377]"
   ]
  },
  {
   "cell_type": "code",
   "execution_count": 8,
   "metadata": {},
   "outputs": [],
   "source": [
    "def save_arr(lst,name):\n",
    "    with open(name, 'wb') as f:\n",
    "        pickle.dump(lst, f)"
   ]
  },
  {
   "cell_type": "code",
   "execution_count": 9,
   "metadata": {},
   "outputs": [],
   "source": [
    "save_arr(l,\"bbc.pkl\")"
   ]
  },
  {
   "cell_type": "code",
   "execution_count": 10,
   "metadata": {},
   "outputs": [],
   "source": [
    "# Specify the file path where you want to save the text file\n",
    "file_path = \"bbc.txt\"\n",
    "\n",
    "# Open the file in write mode and use writelines to write the list\n",
    "with open(file_path, \"w\") as file:\n",
    "    file.writelines('\\n'.join(l))"
   ]
  }
 ],
 "metadata": {
  "kernelspec": {
   "display_name": "base",
   "language": "python",
   "name": "python3"
  },
  "language_info": {
   "codemirror_mode": {
    "name": "ipython",
    "version": 3
   },
   "file_extension": ".py",
   "mimetype": "text/x-python",
   "name": "python",
   "nbconvert_exporter": "python",
   "pygments_lexer": "ipython3",
   "version": "3.11.4"
  },
  "orig_nbformat": 4
 },
 "nbformat": 4,
 "nbformat_minor": 2
}
